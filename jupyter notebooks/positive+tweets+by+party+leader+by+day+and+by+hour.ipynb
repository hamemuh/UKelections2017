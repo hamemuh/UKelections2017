{
 "cells": [
  {
   "cell_type": "code",
   "execution_count": 299,
   "metadata": {},
   "outputs": [],
   "source": [
    "#MongoDB\n",
    "import pymongo\n",
    "from pymongo import MongoClient\n",
    "import time\n",
    "from pymongo import cursor\n",
    "\n",
    "#Pandas\n",
    "import pandas as pd\n",
    "from pandas import DataFrame, Series\n",
    "\n",
    "import plotly\n",
    "import plotly.tools as tls\n",
    "import plotly.graph_objs as go\n",
    "import plotly.plotly as py\n",
    "\n",
    "import pyodbc\n",
    "import json\n",
    "\n",
    "plotly.tools.set_credentials_file(username = 'izzy888', api_key = 'Kx3NbXo7kqbVmU9Yg98t')\n",
    "import cufflinks\n",
    "import datetime"
   ]
  },
  {
   "cell_type": "code",
   "execution_count": 263,
   "metadata": {},
   "outputs": [],
   "source": [
    "a = pd.read_pickle(\"C:\\\\Data\\\\final_tweets3pickledbyhour\")"
   ]
  },
  {
   "cell_type": "code",
   "execution_count": 281,
   "metadata": {},
   "outputs": [],
   "source": [
    "b['sentiment'] = b['polarityvader']"
   ]
  },
  {
   "cell_type": "code",
   "execution_count": 283,
   "metadata": {},
   "outputs": [],
   "source": [
    "del b['polarityvader']"
   ]
  },
  {
   "cell_type": "code",
   "execution_count": 264,
   "metadata": {},
   "outputs": [],
   "source": [
    "b = pd.read_pickle(\"C:\\\\Data\\\\seventeenth_maybyhour_alldata\")"
   ]
  },
  {
   "cell_type": "code",
   "execution_count": 285,
   "metadata": {},
   "outputs": [],
   "source": [
    "c= pd.concat([a, b]) # merge all the data "
   ]
  },
  {
   "cell_type": "code",
   "execution_count": 266,
   "metadata": {
    "collapsed": true
   },
   "outputs": [],
   "source": [
    "#select positive tweets"
   ]
  },
  {
   "cell_type": "code",
   "execution_count": 340,
   "metadata": {},
   "outputs": [],
   "source": [
    "cpositive = c[c['sentiment'] >= 0.05]"
   ]
  },
  {
   "cell_type": "code",
   "execution_count": 341,
   "metadata": {
    "collapsed": true
   },
   "outputs": [],
   "source": [
    "#exclude neutrals"
   ]
  },
  {
   "cell_type": "code",
   "execution_count": 342,
   "metadata": {
    "collapsed": true
   },
   "outputs": [],
   "source": [
    "cp = cpositive[cpositive['Category'] != 'Neutral']"
   ]
  },
  {
   "cell_type": "code",
   "execution_count": 343,
   "metadata": {},
   "outputs": [],
   "source": [
    "cp2 = cpositive[(cpositive['Filter'] == 'Jeremy Corbyn') |(cpositive['Filter'] == 'Theresa May')|(cpositive['Filter'] == 'Corbyn')\\\n",
    "               |(cpositive['Filter'] == 'Tim Farron')|(cpositive['Filter'] == 'Paul Nuttall')|(cpositive['Filter'] == 'Paul Nuttall')\\\n",
    "                | (cpositive['Filter'] == 'Caroline Lucas')|(cpositive['Filter'] == 'Jonathan Bartley')|(cpositive['Filter'] == 'Nicola Sturgeon')| (cpositive['Filter'] == 'Leanne Wood')] \n"
   ]
  },
  {
   "cell_type": "code",
   "execution_count": 344,
   "metadata": {},
   "outputs": [],
   "source": [
    "import numpy as np"
   ]
  },
  {
   "cell_type": "code",
   "execution_count": 360,
   "metadata": {},
   "outputs": [],
   "source": [
    "cp2.loc[cp2['Filter'] == 'Corbyn', 'Filter'] = 'Jeremy Corbyn' # replace corbyn with jermemy corbyn"
   ]
  },
  {
   "cell_type": "code",
   "execution_count": 346,
   "metadata": {},
   "outputs": [
    {
     "data": {
      "text/plain": [
       "Category     609038\n",
       "Date         609038\n",
       "Filter       609038\n",
       "location     435505\n",
       "tweet        609038\n",
       "sentiment    609038\n",
       "dtype: int64"
      ]
     },
     "execution_count": 346,
     "metadata": {},
     "output_type": "execute_result"
    }
   ],
   "source": [
    "cp2.count()"
   ]
  },
  {
   "cell_type": "code",
   "execution_count": null,
   "metadata": {
    "collapsed": true
   },
   "outputs": [],
   "source": []
  },
  {
   "cell_type": "code",
   "execution_count": 347,
   "metadata": {},
   "outputs": [],
   "source": [
    "Count_Row = cp2.shape[0]"
   ]
  },
  {
   "cell_type": "code",
   "execution_count": 348,
   "metadata": {},
   "outputs": [
    {
     "data": {
      "text/plain": [
       "609038"
      ]
     },
     "execution_count": 348,
     "metadata": {},
     "output_type": "execute_result"
    }
   ],
   "source": [
    "Count_Row"
   ]
  },
  {
   "cell_type": "code",
   "execution_count": 361,
   "metadata": {},
   "outputs": [
    {
     "data": {
      "text/html": [
       "<div>\n",
       "<table border=\"1\" class=\"dataframe\">\n",
       "  <thead>\n",
       "    <tr style=\"text-align: right;\">\n",
       "      <th></th>\n",
       "      <th>Category</th>\n",
       "      <th>Date</th>\n",
       "      <th>Filter</th>\n",
       "      <th>location</th>\n",
       "      <th>tweet</th>\n",
       "      <th>sentiment</th>\n",
       "      <th>Day</th>\n",
       "    </tr>\n",
       "  </thead>\n",
       "  <tbody>\n",
       "    <tr>\n",
       "      <th>1</th>\n",
       "      <td>Labour</td>\n",
       "      <td>2017-05-11 12:00:00</td>\n",
       "      <td>Jeremy Corbyn</td>\n",
       "      <td>Plymouth U.K.</td>\n",
       "      <td>Are you happy to have Branson's Virgin Care ra...</td>\n",
       "      <td>0.7845</td>\n",
       "      <td>2017-05-11</td>\n",
       "    </tr>\n",
       "    <tr>\n",
       "      <th>5</th>\n",
       "      <td>Labour</td>\n",
       "      <td>2017-05-11 12:00:00</td>\n",
       "      <td>Jeremy Corbyn</td>\n",
       "      <td>Aberdeen, Scotland</td>\n",
       "      <td>Corbyn definitely getting a bump in the polls ...</td>\n",
       "      <td>0.4019</td>\n",
       "      <td>2017-05-11</td>\n",
       "    </tr>\n",
       "    <tr>\n",
       "      <th>8</th>\n",
       "      <td>Conservative</td>\n",
       "      <td>2017-05-11 12:00:00</td>\n",
       "      <td>Theresa May</td>\n",
       "      <td>Inverness, Scotland</td>\n",
       "      <td>RT @EliasMichalas: Theresa May refuses to rule...</td>\n",
       "      <td>0.1027</td>\n",
       "      <td>2017-05-11</td>\n",
       "    </tr>\n",
       "    <tr>\n",
       "      <th>24</th>\n",
       "      <td>Conservative</td>\n",
       "      <td>2017-05-11 12:00:00</td>\n",
       "      <td>Theresa May</td>\n",
       "      <td>SW UK</td>\n",
       "      <td>Theresa May: *eats baby*\\nMedia: \"safe pair of...</td>\n",
       "      <td>0.4404</td>\n",
       "      <td>2017-05-11</td>\n",
       "    </tr>\n",
       "    <tr>\n",
       "      <th>37</th>\n",
       "      <td>Conservative</td>\n",
       "      <td>2017-05-11 12:00:00</td>\n",
       "      <td>Theresa May</td>\n",
       "      <td>Ipswich</td>\n",
       "      <td>RT @Independent: It's downright shameful that ...</td>\n",
       "      <td>0.2023</td>\n",
       "      <td>2017-05-11</td>\n",
       "    </tr>\n",
       "    <tr>\n",
       "      <th>38</th>\n",
       "      <td>Labour</td>\n",
       "      <td>2017-05-11 12:00:00</td>\n",
       "      <td>Jeremy Corbyn</td>\n",
       "      <td>Lochmaben, UK</td>\n",
       "      <td>RT @JamieRoss7: It's actually been a pretty go...</td>\n",
       "      <td>0.4215</td>\n",
       "      <td>2017-05-11</td>\n",
       "    </tr>\n",
       "    <tr>\n",
       "      <th>58</th>\n",
       "      <td>Conservative</td>\n",
       "      <td>2017-05-11 12:00:00</td>\n",
       "      <td>Theresa May</td>\n",
       "      <td>Scotland</td>\n",
       "      <td>RT @rssandr5: @BarristerSecret @TEACHERNIS If ...</td>\n",
       "      <td>0.6433</td>\n",
       "      <td>2017-05-11</td>\n",
       "    </tr>\n",
       "    <tr>\n",
       "      <th>59</th>\n",
       "      <td>Labour</td>\n",
       "      <td>2017-05-11 12:00:00</td>\n",
       "      <td>Jeremy Corbyn</td>\n",
       "      <td>None</td>\n",
       "      <td>RT @CorbynSuperFan: Politics has sunk to a lev...</td>\n",
       "      <td>0.2960</td>\n",
       "      <td>2017-05-11</td>\n",
       "    </tr>\n",
       "    <tr>\n",
       "      <th>92</th>\n",
       "      <td>Labour</td>\n",
       "      <td>2017-05-11 12:00:00</td>\n",
       "      <td>Jeremy Corbyn</td>\n",
       "      <td>Birmingham, England</td>\n",
       "      <td>RT @jeremyforlab: Jeremy Corbyn: Let's feed ch...</td>\n",
       "      <td>0.1027</td>\n",
       "      <td>2017-05-11</td>\n",
       "    </tr>\n",
       "    <tr>\n",
       "      <th>96</th>\n",
       "      <td>Conservative</td>\n",
       "      <td>2017-05-11 12:00:00</td>\n",
       "      <td>Theresa May</td>\n",
       "      <td>Birmingham, England</td>\n",
       "      <td>RT @hoddles10: @patrickharvie To be fair, the ...</td>\n",
       "      <td>0.3182</td>\n",
       "      <td>2017-05-11</td>\n",
       "    </tr>\n",
       "  </tbody>\n",
       "</table>\n",
       "</div>"
      ],
      "text/plain": [
       "        Category                Date         Filter             location  \\\n",
       "1         Labour 2017-05-11 12:00:00  Jeremy Corbyn        Plymouth U.K.   \n",
       "5         Labour 2017-05-11 12:00:00  Jeremy Corbyn   Aberdeen, Scotland   \n",
       "8   Conservative 2017-05-11 12:00:00    Theresa May  Inverness, Scotland   \n",
       "24  Conservative 2017-05-11 12:00:00    Theresa May                SW UK   \n",
       "37  Conservative 2017-05-11 12:00:00    Theresa May              Ipswich   \n",
       "38        Labour 2017-05-11 12:00:00  Jeremy Corbyn       Lochmaben, UK    \n",
       "58  Conservative 2017-05-11 12:00:00    Theresa May             Scotland   \n",
       "59        Labour 2017-05-11 12:00:00  Jeremy Corbyn                 None   \n",
       "92        Labour 2017-05-11 12:00:00  Jeremy Corbyn  Birmingham, England   \n",
       "96  Conservative 2017-05-11 12:00:00    Theresa May  Birmingham, England   \n",
       "\n",
       "                                                tweet  sentiment         Day  \n",
       "1   Are you happy to have Branson's Virgin Care ra...     0.7845  2017-05-11  \n",
       "5   Corbyn definitely getting a bump in the polls ...     0.4019  2017-05-11  \n",
       "8   RT @EliasMichalas: Theresa May refuses to rule...     0.1027  2017-05-11  \n",
       "24  Theresa May: *eats baby*\\nMedia: \"safe pair of...     0.4404  2017-05-11  \n",
       "37  RT @Independent: It's downright shameful that ...     0.2023  2017-05-11  \n",
       "38  RT @JamieRoss7: It's actually been a pretty go...     0.4215  2017-05-11  \n",
       "58  RT @rssandr5: @BarristerSecret @TEACHERNIS If ...     0.6433  2017-05-11  \n",
       "59  RT @CorbynSuperFan: Politics has sunk to a lev...     0.2960  2017-05-11  \n",
       "92  RT @jeremyforlab: Jeremy Corbyn: Let's feed ch...     0.1027  2017-05-11  \n",
       "96  RT @hoddles10: @patrickharvie To be fair, the ...     0.3182  2017-05-11  "
      ]
     },
     "execution_count": 361,
     "metadata": {},
     "output_type": "execute_result"
    }
   ],
   "source": [
    "cp2[:10]"
   ]
  },
  {
   "cell_type": "code",
   "execution_count": 362,
   "metadata": {},
   "outputs": [
    {
     "data": {
      "text/plain": [
       "0.99419999999999997"
      ]
     },
     "execution_count": 362,
     "metadata": {},
     "output_type": "execute_result"
    }
   ],
   "source": [
    "cpositive['sentiment'].max()"
   ]
  },
  {
   "cell_type": "code",
   "execution_count": 364,
   "metadata": {},
   "outputs": [],
   "source": [
    "cp2 = cpositive[(cpositive['Filter'] == 'Jeremy Corbyn') |(cpositive['Filter'] == 'Theresa May')|\\\n",
    "               (cpositive['Filter'] == 'Tim Farron')|(cpositive['Filter'] == 'Paul Nuttall')\\\n",
    "                | (cpositive['Filter'] == 'Caroline Lucas')|(cpositive['Filter'] == 'Jonathan Bartley')|(cpositive['Filter'] == 'Nicola Sturgeon')| (cpositive['Filter'] == 'Leanne Wood')] \n"
   ]
  },
  {
   "cell_type": "code",
   "execution_count": 366,
   "metadata": {},
   "outputs": [
    {
     "data": {
      "text/html": [
       "<div>\n",
       "<table border=\"1\" class=\"dataframe\">\n",
       "  <thead>\n",
       "    <tr style=\"text-align: right;\">\n",
       "      <th></th>\n",
       "      <th>Category</th>\n",
       "      <th>Date</th>\n",
       "      <th>Filter</th>\n",
       "      <th>location</th>\n",
       "      <th>tweet</th>\n",
       "      <th>sentiment</th>\n",
       "    </tr>\n",
       "  </thead>\n",
       "  <tbody>\n",
       "    <tr>\n",
       "      <th>1</th>\n",
       "      <td>Labour</td>\n",
       "      <td>2017-05-11 12:00:00</td>\n",
       "      <td>Jeremy Corbyn</td>\n",
       "      <td>Plymouth U.K.</td>\n",
       "      <td>Are you happy to have Branson's Virgin Care ra...</td>\n",
       "      <td>0.7845</td>\n",
       "    </tr>\n",
       "    <tr>\n",
       "      <th>8</th>\n",
       "      <td>Conservative</td>\n",
       "      <td>2017-05-11 12:00:00</td>\n",
       "      <td>Theresa May</td>\n",
       "      <td>Inverness, Scotland</td>\n",
       "      <td>RT @EliasMichalas: Theresa May refuses to rule...</td>\n",
       "      <td>0.1027</td>\n",
       "    </tr>\n",
       "    <tr>\n",
       "      <th>24</th>\n",
       "      <td>Conservative</td>\n",
       "      <td>2017-05-11 12:00:00</td>\n",
       "      <td>Theresa May</td>\n",
       "      <td>SW UK</td>\n",
       "      <td>Theresa May: *eats baby*\\nMedia: \"safe pair of...</td>\n",
       "      <td>0.4404</td>\n",
       "    </tr>\n",
       "    <tr>\n",
       "      <th>37</th>\n",
       "      <td>Conservative</td>\n",
       "      <td>2017-05-11 12:00:00</td>\n",
       "      <td>Theresa May</td>\n",
       "      <td>Ipswich</td>\n",
       "      <td>RT @Independent: It's downright shameful that ...</td>\n",
       "      <td>0.2023</td>\n",
       "    </tr>\n",
       "    <tr>\n",
       "      <th>58</th>\n",
       "      <td>Conservative</td>\n",
       "      <td>2017-05-11 12:00:00</td>\n",
       "      <td>Theresa May</td>\n",
       "      <td>Scotland</td>\n",
       "      <td>RT @rssandr5: @BarristerSecret @TEACHERNIS If ...</td>\n",
       "      <td>0.6433</td>\n",
       "    </tr>\n",
       "  </tbody>\n",
       "</table>\n",
       "</div>"
      ],
      "text/plain": [
       "        Category                Date         Filter             location  \\\n",
       "1         Labour 2017-05-11 12:00:00  Jeremy Corbyn        Plymouth U.K.   \n",
       "8   Conservative 2017-05-11 12:00:00    Theresa May  Inverness, Scotland   \n",
       "24  Conservative 2017-05-11 12:00:00    Theresa May                SW UK   \n",
       "37  Conservative 2017-05-11 12:00:00    Theresa May              Ipswich   \n",
       "58  Conservative 2017-05-11 12:00:00    Theresa May             Scotland   \n",
       "\n",
       "                                                tweet  sentiment  \n",
       "1   Are you happy to have Branson's Virgin Care ra...     0.7845  \n",
       "8   RT @EliasMichalas: Theresa May refuses to rule...     0.1027  \n",
       "24  Theresa May: *eats baby*\\nMedia: \"safe pair of...     0.4404  \n",
       "37  RT @Independent: It's downright shameful that ...     0.2023  \n",
       "58  RT @rssandr5: @BarristerSecret @TEACHERNIS If ...     0.6433  "
      ]
     },
     "execution_count": 366,
     "metadata": {},
     "output_type": "execute_result"
    }
   ],
   "source": [
    "cp2[:5]"
   ]
  },
  {
   "cell_type": "code",
   "execution_count": 367,
   "metadata": {
    "collapsed": true
   },
   "outputs": [],
   "source": [
    "groupcp2 = cp2.groupby(['Date', 'Filter']).mean().reset_index()"
   ]
  },
  {
   "cell_type": "code",
   "execution_count": 368,
   "metadata": {},
   "outputs": [
    {
     "data": {
      "text/html": [
       "<div>\n",
       "<table border=\"1\" class=\"dataframe\">\n",
       "  <thead>\n",
       "    <tr style=\"text-align: right;\">\n",
       "      <th></th>\n",
       "      <th>Date</th>\n",
       "      <th>Filter</th>\n",
       "      <th>sentiment</th>\n",
       "    </tr>\n",
       "  </thead>\n",
       "  <tbody>\n",
       "    <tr>\n",
       "      <th>0</th>\n",
       "      <td>2017-05-11 12:00:00</td>\n",
       "      <td>Jeremy Corbyn</td>\n",
       "      <td>0.440545</td>\n",
       "    </tr>\n",
       "    <tr>\n",
       "      <th>1</th>\n",
       "      <td>2017-05-11 12:00:00</td>\n",
       "      <td>Nicola Sturgeon</td>\n",
       "      <td>0.440400</td>\n",
       "    </tr>\n",
       "    <tr>\n",
       "      <th>2</th>\n",
       "      <td>2017-05-11 12:00:00</td>\n",
       "      <td>Theresa May</td>\n",
       "      <td>0.507665</td>\n",
       "    </tr>\n",
       "    <tr>\n",
       "      <th>3</th>\n",
       "      <td>2017-05-11 12:00:00</td>\n",
       "      <td>Tim Farron</td>\n",
       "      <td>0.342321</td>\n",
       "    </tr>\n",
       "    <tr>\n",
       "      <th>4</th>\n",
       "      <td>2017-05-11 13:00:00</td>\n",
       "      <td>Caroline Lucas</td>\n",
       "      <td>0.361200</td>\n",
       "    </tr>\n",
       "  </tbody>\n",
       "</table>\n",
       "</div>"
      ],
      "text/plain": [
       "                 Date           Filter  sentiment\n",
       "0 2017-05-11 12:00:00    Jeremy Corbyn   0.440545\n",
       "1 2017-05-11 12:00:00  Nicola Sturgeon   0.440400\n",
       "2 2017-05-11 12:00:00      Theresa May   0.507665\n",
       "3 2017-05-11 12:00:00       Tim Farron   0.342321\n",
       "4 2017-05-11 13:00:00   Caroline Lucas   0.361200"
      ]
     },
     "execution_count": 368,
     "metadata": {},
     "output_type": "execute_result"
    }
   ],
   "source": [
    "groupcp2[:5]"
   ]
  },
  {
   "cell_type": "code",
   "execution_count": 369,
   "metadata": {},
   "outputs": [
    {
     "name": "stderr",
     "output_type": "stream",
     "text": [
      "c:\\users\\student\\anaconda2\\lib\\site-packages\\ipykernel\\__main__.py:1: SettingWithCopyWarning:\n",
      "\n",
      "\n",
      "A value is trying to be set on a copy of a slice from a DataFrame.\n",
      "Try using .loc[row_indexer,col_indexer] = value instead\n",
      "\n",
      "See the caveats in the documentation: http://pandas.pydata.org/pandas-docs/stable/indexing.html#indexing-view-versus-copy\n",
      "\n"
     ]
    }
   ],
   "source": [
    "cp2['Day'] = cp2['Date'].dt.date"
   ]
  },
  {
   "cell_type": "code",
   "execution_count": 381,
   "metadata": {},
   "outputs": [],
   "source": [
    "groupcp3 = cp2.groupby(['Day', 'Filter']).count()['tweet'].reset_index()"
   ]
  },
  {
   "cell_type": "code",
   "execution_count": 382,
   "metadata": {},
   "outputs": [
    {
     "data": {
      "text/html": [
       "<div>\n",
       "<table border=\"1\" class=\"dataframe\">\n",
       "  <thead>\n",
       "    <tr style=\"text-align: right;\">\n",
       "      <th></th>\n",
       "      <th>Day</th>\n",
       "      <th>Filter</th>\n",
       "      <th>tweet</th>\n",
       "    </tr>\n",
       "  </thead>\n",
       "  <tbody>\n",
       "    <tr>\n",
       "      <th>0</th>\n",
       "      <td>2017-05-11</td>\n",
       "      <td>Caroline Lucas</td>\n",
       "      <td>14</td>\n",
       "    </tr>\n",
       "    <tr>\n",
       "      <th>1</th>\n",
       "      <td>2017-05-11</td>\n",
       "      <td>Jeremy Corbyn</td>\n",
       "      <td>2815</td>\n",
       "    </tr>\n",
       "    <tr>\n",
       "      <th>2</th>\n",
       "      <td>2017-05-11</td>\n",
       "      <td>Leanne Wood</td>\n",
       "      <td>3</td>\n",
       "    </tr>\n",
       "    <tr>\n",
       "      <th>3</th>\n",
       "      <td>2017-05-11</td>\n",
       "      <td>Nicola Sturgeon</td>\n",
       "      <td>63</td>\n",
       "    </tr>\n",
       "    <tr>\n",
       "      <th>4</th>\n",
       "      <td>2017-05-11</td>\n",
       "      <td>Paul Nuttall</td>\n",
       "      <td>36</td>\n",
       "    </tr>\n",
       "    <tr>\n",
       "      <th>5</th>\n",
       "      <td>2017-05-11</td>\n",
       "      <td>Theresa May</td>\n",
       "      <td>2140</td>\n",
       "    </tr>\n",
       "    <tr>\n",
       "      <th>6</th>\n",
       "      <td>2017-05-11</td>\n",
       "      <td>Tim Farron</td>\n",
       "      <td>123</td>\n",
       "    </tr>\n",
       "  </tbody>\n",
       "</table>\n",
       "</div>"
      ],
      "text/plain": [
       "          Day           Filter  tweet\n",
       "0  2017-05-11   Caroline Lucas     14\n",
       "1  2017-05-11    Jeremy Corbyn   2815\n",
       "2  2017-05-11      Leanne Wood      3\n",
       "3  2017-05-11  Nicola Sturgeon     63\n",
       "4  2017-05-11     Paul Nuttall     36\n",
       "5  2017-05-11      Theresa May   2140\n",
       "6  2017-05-11       Tim Farron    123"
      ]
     },
     "execution_count": 382,
     "metadata": {},
     "output_type": "execute_result"
    }
   ],
   "source": [
    "groupcp3[:7] # no. tweets per day by leader"
   ]
  },
  {
   "cell_type": "code",
   "execution_count": 383,
   "metadata": {},
   "outputs": [],
   "source": [
    "groupcp3p = groupcp3.pivot(index = 'Day', columns = 'Filter', values = 'tweet').reset_index()"
   ]
  },
  {
   "cell_type": "code",
   "execution_count": 384,
   "metadata": {},
   "outputs": [
    {
     "data": {
      "text/html": [
       "<div>\n",
       "<table border=\"1\" class=\"dataframe\">\n",
       "  <thead>\n",
       "    <tr style=\"text-align: right;\">\n",
       "      <th>Filter</th>\n",
       "      <th>Day</th>\n",
       "      <th>Caroline Lucas</th>\n",
       "      <th>Jeremy Corbyn</th>\n",
       "      <th>Jonathan Bartley</th>\n",
       "      <th>Leanne Wood</th>\n",
       "      <th>Nicola Sturgeon</th>\n",
       "      <th>Paul Nuttall</th>\n",
       "      <th>Theresa May</th>\n",
       "      <th>Tim Farron</th>\n",
       "    </tr>\n",
       "  </thead>\n",
       "  <tbody>\n",
       "    <tr>\n",
       "      <th>0</th>\n",
       "      <td>2017-05-11</td>\n",
       "      <td>14.0</td>\n",
       "      <td>2815.0</td>\n",
       "      <td>NaN</td>\n",
       "      <td>3.0</td>\n",
       "      <td>63.0</td>\n",
       "      <td>36.0</td>\n",
       "      <td>2140.0</td>\n",
       "      <td>123.0</td>\n",
       "    </tr>\n",
       "    <tr>\n",
       "      <th>1</th>\n",
       "      <td>2017-05-12</td>\n",
       "      <td>11.0</td>\n",
       "      <td>9676.0</td>\n",
       "      <td>5.0</td>\n",
       "      <td>8.0</td>\n",
       "      <td>158.0</td>\n",
       "      <td>78.0</td>\n",
       "      <td>8772.0</td>\n",
       "      <td>775.0</td>\n",
       "    </tr>\n",
       "    <tr>\n",
       "      <th>2</th>\n",
       "      <td>2017-05-13</td>\n",
       "      <td>18.0</td>\n",
       "      <td>7596.0</td>\n",
       "      <td>4.0</td>\n",
       "      <td>18.0</td>\n",
       "      <td>263.0</td>\n",
       "      <td>1039.0</td>\n",
       "      <td>15129.0</td>\n",
       "      <td>477.0</td>\n",
       "    </tr>\n",
       "    <tr>\n",
       "      <th>3</th>\n",
       "      <td>2017-05-14</td>\n",
       "      <td>15.0</td>\n",
       "      <td>8138.0</td>\n",
       "      <td>2.0</td>\n",
       "      <td>3.0</td>\n",
       "      <td>1169.0</td>\n",
       "      <td>201.0</td>\n",
       "      <td>16294.0</td>\n",
       "      <td>610.0</td>\n",
       "    </tr>\n",
       "    <tr>\n",
       "      <th>4</th>\n",
       "      <td>2017-05-15</td>\n",
       "      <td>7.0</td>\n",
       "      <td>9481.0</td>\n",
       "      <td>2.0</td>\n",
       "      <td>110.0</td>\n",
       "      <td>493.0</td>\n",
       "      <td>57.0</td>\n",
       "      <td>25227.0</td>\n",
       "      <td>751.0</td>\n",
       "    </tr>\n",
       "    <tr>\n",
       "      <th>5</th>\n",
       "      <td>2017-05-16</td>\n",
       "      <td>19.0</td>\n",
       "      <td>16251.0</td>\n",
       "      <td>NaN</td>\n",
       "      <td>58.0</td>\n",
       "      <td>180.0</td>\n",
       "      <td>55.0</td>\n",
       "      <td>19440.0</td>\n",
       "      <td>669.0</td>\n",
       "    </tr>\n",
       "    <tr>\n",
       "      <th>6</th>\n",
       "      <td>2017-05-17</td>\n",
       "      <td>12.0</td>\n",
       "      <td>6555.0</td>\n",
       "      <td>NaN</td>\n",
       "      <td>108.0</td>\n",
       "      <td>133.0</td>\n",
       "      <td>52.0</td>\n",
       "      <td>11411.0</td>\n",
       "      <td>2484.0</td>\n",
       "    </tr>\n",
       "    <tr>\n",
       "      <th>7</th>\n",
       "      <td>2017-05-18</td>\n",
       "      <td>1866.0</td>\n",
       "      <td>4995.0</td>\n",
       "      <td>220.0</td>\n",
       "      <td>384.0</td>\n",
       "      <td>3411.0</td>\n",
       "      <td>2967.0</td>\n",
       "      <td>23944.0</td>\n",
       "      <td>2326.0</td>\n",
       "    </tr>\n",
       "    <tr>\n",
       "      <th>8</th>\n",
       "      <td>2017-05-19</td>\n",
       "      <td>269.0</td>\n",
       "      <td>6975.0</td>\n",
       "      <td>66.0</td>\n",
       "      <td>59.0</td>\n",
       "      <td>1764.0</td>\n",
       "      <td>689.0</td>\n",
       "      <td>18564.0</td>\n",
       "      <td>471.0</td>\n",
       "    </tr>\n",
       "    <tr>\n",
       "      <th>9</th>\n",
       "      <td>2017-05-20</td>\n",
       "      <td>47.0</td>\n",
       "      <td>41216.0</td>\n",
       "      <td>5.0</td>\n",
       "      <td>10.0</td>\n",
       "      <td>234.0</td>\n",
       "      <td>574.0</td>\n",
       "      <td>15664.0</td>\n",
       "      <td>263.0</td>\n",
       "    </tr>\n",
       "    <tr>\n",
       "      <th>10</th>\n",
       "      <td>2017-05-21</td>\n",
       "      <td>27.0</td>\n",
       "      <td>25364.0</td>\n",
       "      <td>5.0</td>\n",
       "      <td>8.0</td>\n",
       "      <td>1258.0</td>\n",
       "      <td>451.0</td>\n",
       "      <td>15792.0</td>\n",
       "      <td>317.0</td>\n",
       "    </tr>\n",
       "    <tr>\n",
       "      <th>11</th>\n",
       "      <td>2017-05-22</td>\n",
       "      <td>65.0</td>\n",
       "      <td>6705.0</td>\n",
       "      <td>21.0</td>\n",
       "      <td>NaN</td>\n",
       "      <td>401.0</td>\n",
       "      <td>17.0</td>\n",
       "      <td>21410.0</td>\n",
       "      <td>175.0</td>\n",
       "    </tr>\n",
       "    <tr>\n",
       "      <th>12</th>\n",
       "      <td>2017-05-23</td>\n",
       "      <td>2.0</td>\n",
       "      <td>1191.0</td>\n",
       "      <td>NaN</td>\n",
       "      <td>2.0</td>\n",
       "      <td>33.0</td>\n",
       "      <td>70.0</td>\n",
       "      <td>3750.0</td>\n",
       "      <td>19.0</td>\n",
       "    </tr>\n",
       "  </tbody>\n",
       "</table>\n",
       "</div>"
      ],
      "text/plain": [
       "Filter         Day  Caroline Lucas  Jeremy Corbyn  Jonathan Bartley  \\\n",
       "0       2017-05-11            14.0         2815.0               NaN   \n",
       "1       2017-05-12            11.0         9676.0               5.0   \n",
       "2       2017-05-13            18.0         7596.0               4.0   \n",
       "3       2017-05-14            15.0         8138.0               2.0   \n",
       "4       2017-05-15             7.0         9481.0               2.0   \n",
       "5       2017-05-16            19.0        16251.0               NaN   \n",
       "6       2017-05-17            12.0         6555.0               NaN   \n",
       "7       2017-05-18          1866.0         4995.0             220.0   \n",
       "8       2017-05-19           269.0         6975.0              66.0   \n",
       "9       2017-05-20            47.0        41216.0               5.0   \n",
       "10      2017-05-21            27.0        25364.0               5.0   \n",
       "11      2017-05-22            65.0         6705.0              21.0   \n",
       "12      2017-05-23             2.0         1191.0               NaN   \n",
       "\n",
       "Filter  Leanne Wood  Nicola Sturgeon  Paul Nuttall  Theresa May  Tim Farron  \n",
       "0               3.0             63.0          36.0       2140.0       123.0  \n",
       "1               8.0            158.0          78.0       8772.0       775.0  \n",
       "2              18.0            263.0        1039.0      15129.0       477.0  \n",
       "3               3.0           1169.0         201.0      16294.0       610.0  \n",
       "4             110.0            493.0          57.0      25227.0       751.0  \n",
       "5              58.0            180.0          55.0      19440.0       669.0  \n",
       "6             108.0            133.0          52.0      11411.0      2484.0  \n",
       "7             384.0           3411.0        2967.0      23944.0      2326.0  \n",
       "8              59.0           1764.0         689.0      18564.0       471.0  \n",
       "9              10.0            234.0         574.0      15664.0       263.0  \n",
       "10              8.0           1258.0         451.0      15792.0       317.0  \n",
       "11              NaN            401.0          17.0      21410.0       175.0  \n",
       "12              2.0             33.0          70.0       3750.0        19.0  "
      ]
     },
     "execution_count": 384,
     "metadata": {},
     "output_type": "execute_result"
    }
   ],
   "source": [
    "groupcp3p"
   ]
  },
  {
   "cell_type": "code",
   "execution_count": null,
   "metadata": {
    "collapsed": true
   },
   "outputs": [],
   "source": []
  },
  {
   "cell_type": "code",
   "execution_count": 385,
   "metadata": {},
   "outputs": [
    {
     "data": {
      "text/html": [
       "<iframe id=\"igraph\" scrolling=\"no\" style=\"border:none;\" seamless=\"seamless\" src=\"https://plot.ly/~Izzy888/34.embed\" height=\"525px\" width=\"100%\"></iframe>"
      ],
      "text/plain": [
       "<plotly.tools.PlotlyDisplay object>"
      ]
     },
     "execution_count": 385,
     "metadata": {},
     "output_type": "execute_result"
    }
   ],
   "source": [
    "groupcp3p.iplot(kind='line', xTitle = 'Date', yTitle = 'No. Tweets with Sentiment > 0.05', x = ['Day'], y= ['Jeremy Corbyn','Theresa May','Tim Farron','Paul Nuttall','Caroline Lucas','Jonathan Bartley', 'Nicola Sturgeon','Leanne Wood'] )"
   ]
  },
  {
   "cell_type": "code",
   "execution_count": null,
   "metadata": {
    "collapsed": true
   },
   "outputs": [],
   "source": [
    "# to plot the number of tweets by hour"
   ]
  },
  {
   "cell_type": "code",
   "execution_count": 386,
   "metadata": {
    "collapsed": true
   },
   "outputs": [],
   "source": [
    "groupcp4 = cp2.groupby(['Date', 'Filter']).count()['tweet'].reset_index()"
   ]
  },
  {
   "cell_type": "code",
   "execution_count": 387,
   "metadata": {
    "collapsed": true
   },
   "outputs": [],
   "source": [
    "groupcp4p = groupcp4.pivot(index = 'Date', columns = 'Filter', values = 'tweet').reset_index()"
   ]
  },
  {
   "cell_type": "code",
   "execution_count": 389,
   "metadata": {},
   "outputs": [
    {
     "data": {
      "text/html": [
       "<div>\n",
       "<table border=\"1\" class=\"dataframe\">\n",
       "  <thead>\n",
       "    <tr style=\"text-align: right;\">\n",
       "      <th>Filter</th>\n",
       "      <th>Date</th>\n",
       "      <th>Caroline Lucas</th>\n",
       "      <th>Jeremy Corbyn</th>\n",
       "      <th>Jonathan Bartley</th>\n",
       "      <th>Leanne Wood</th>\n",
       "      <th>Nicola Sturgeon</th>\n",
       "      <th>Paul Nuttall</th>\n",
       "      <th>Theresa May</th>\n",
       "      <th>Tim Farron</th>\n",
       "    </tr>\n",
       "  </thead>\n",
       "  <tbody>\n",
       "    <tr>\n",
       "      <th>0</th>\n",
       "      <td>2017-05-11 12:00:00</td>\n",
       "      <td>NaN</td>\n",
       "      <td>122.0</td>\n",
       "      <td>NaN</td>\n",
       "      <td>NaN</td>\n",
       "      <td>1.0</td>\n",
       "      <td>NaN</td>\n",
       "      <td>107.0</td>\n",
       "      <td>14.0</td>\n",
       "    </tr>\n",
       "    <tr>\n",
       "      <th>1</th>\n",
       "      <td>2017-05-11 13:00:00</td>\n",
       "      <td>1.0</td>\n",
       "      <td>543.0</td>\n",
       "      <td>NaN</td>\n",
       "      <td>NaN</td>\n",
       "      <td>19.0</td>\n",
       "      <td>NaN</td>\n",
       "      <td>509.0</td>\n",
       "      <td>33.0</td>\n",
       "    </tr>\n",
       "    <tr>\n",
       "      <th>2</th>\n",
       "      <td>2017-05-11 14:00:00</td>\n",
       "      <td>5.0</td>\n",
       "      <td>422.0</td>\n",
       "      <td>NaN</td>\n",
       "      <td>NaN</td>\n",
       "      <td>14.0</td>\n",
       "      <td>8.0</td>\n",
       "      <td>432.0</td>\n",
       "      <td>34.0</td>\n",
       "    </tr>\n",
       "    <tr>\n",
       "      <th>3</th>\n",
       "      <td>2017-05-11 15:00:00</td>\n",
       "      <td>1.0</td>\n",
       "      <td>909.0</td>\n",
       "      <td>NaN</td>\n",
       "      <td>2.0</td>\n",
       "      <td>23.0</td>\n",
       "      <td>12.0</td>\n",
       "      <td>452.0</td>\n",
       "      <td>23.0</td>\n",
       "    </tr>\n",
       "    <tr>\n",
       "      <th>4</th>\n",
       "      <td>2017-05-11 16:00:00</td>\n",
       "      <td>7.0</td>\n",
       "      <td>819.0</td>\n",
       "      <td>NaN</td>\n",
       "      <td>1.0</td>\n",
       "      <td>6.0</td>\n",
       "      <td>16.0</td>\n",
       "      <td>640.0</td>\n",
       "      <td>19.0</td>\n",
       "    </tr>\n",
       "    <tr>\n",
       "      <th>5</th>\n",
       "      <td>2017-05-12 07:00:00</td>\n",
       "      <td>1.0</td>\n",
       "      <td>163.0</td>\n",
       "      <td>NaN</td>\n",
       "      <td>NaN</td>\n",
       "      <td>2.0</td>\n",
       "      <td>3.0</td>\n",
       "      <td>218.0</td>\n",
       "      <td>5.0</td>\n",
       "    </tr>\n",
       "    <tr>\n",
       "      <th>6</th>\n",
       "      <td>2017-05-12 08:00:00</td>\n",
       "      <td>2.0</td>\n",
       "      <td>457.0</td>\n",
       "      <td>NaN</td>\n",
       "      <td>NaN</td>\n",
       "      <td>13.0</td>\n",
       "      <td>5.0</td>\n",
       "      <td>403.0</td>\n",
       "      <td>8.0</td>\n",
       "    </tr>\n",
       "    <tr>\n",
       "      <th>7</th>\n",
       "      <td>2017-05-12 09:00:00</td>\n",
       "      <td>2.0</td>\n",
       "      <td>381.0</td>\n",
       "      <td>NaN</td>\n",
       "      <td>NaN</td>\n",
       "      <td>6.0</td>\n",
       "      <td>3.0</td>\n",
       "      <td>349.0</td>\n",
       "      <td>15.0</td>\n",
       "    </tr>\n",
       "    <tr>\n",
       "      <th>8</th>\n",
       "      <td>2017-05-12 10:00:00</td>\n",
       "      <td>1.0</td>\n",
       "      <td>512.0</td>\n",
       "      <td>NaN</td>\n",
       "      <td>NaN</td>\n",
       "      <td>6.0</td>\n",
       "      <td>4.0</td>\n",
       "      <td>403.0</td>\n",
       "      <td>12.0</td>\n",
       "    </tr>\n",
       "    <tr>\n",
       "      <th>9</th>\n",
       "      <td>2017-05-12 11:00:00</td>\n",
       "      <td>NaN</td>\n",
       "      <td>1259.0</td>\n",
       "      <td>NaN</td>\n",
       "      <td>NaN</td>\n",
       "      <td>5.0</td>\n",
       "      <td>7.0</td>\n",
       "      <td>469.0</td>\n",
       "      <td>8.0</td>\n",
       "    </tr>\n",
       "  </tbody>\n",
       "</table>\n",
       "</div>"
      ],
      "text/plain": [
       "Filter                Date  Caroline Lucas  Jeremy Corbyn  Jonathan Bartley  \\\n",
       "0      2017-05-11 12:00:00             NaN          122.0               NaN   \n",
       "1      2017-05-11 13:00:00             1.0          543.0               NaN   \n",
       "2      2017-05-11 14:00:00             5.0          422.0               NaN   \n",
       "3      2017-05-11 15:00:00             1.0          909.0               NaN   \n",
       "4      2017-05-11 16:00:00             7.0          819.0               NaN   \n",
       "5      2017-05-12 07:00:00             1.0          163.0               NaN   \n",
       "6      2017-05-12 08:00:00             2.0          457.0               NaN   \n",
       "7      2017-05-12 09:00:00             2.0          381.0               NaN   \n",
       "8      2017-05-12 10:00:00             1.0          512.0               NaN   \n",
       "9      2017-05-12 11:00:00             NaN         1259.0               NaN   \n",
       "\n",
       "Filter  Leanne Wood  Nicola Sturgeon  Paul Nuttall  Theresa May  Tim Farron  \n",
       "0               NaN              1.0           NaN        107.0        14.0  \n",
       "1               NaN             19.0           NaN        509.0        33.0  \n",
       "2               NaN             14.0           8.0        432.0        34.0  \n",
       "3               2.0             23.0          12.0        452.0        23.0  \n",
       "4               1.0              6.0          16.0        640.0        19.0  \n",
       "5               NaN              2.0           3.0        218.0         5.0  \n",
       "6               NaN             13.0           5.0        403.0         8.0  \n",
       "7               NaN              6.0           3.0        349.0        15.0  \n",
       "8               NaN              6.0           4.0        403.0        12.0  \n",
       "9               NaN              5.0           7.0        469.0         8.0  "
      ]
     },
     "execution_count": 389,
     "metadata": {},
     "output_type": "execute_result"
    }
   ],
   "source": [
    "groupcp4p[:10]"
   ]
  },
  {
   "cell_type": "code",
   "execution_count": 390,
   "metadata": {},
   "outputs": [
    {
     "data": {
      "text/html": [
       "<iframe id=\"igraph\" scrolling=\"no\" style=\"border:none;\" seamless=\"seamless\" src=\"https://plot.ly/~Izzy888/36.embed\" height=\"525px\" width=\"100%\"></iframe>"
      ],
      "text/plain": [
       "<plotly.tools.PlotlyDisplay object>"
      ]
     },
     "execution_count": 390,
     "metadata": {},
     "output_type": "execute_result"
    }
   ],
   "source": [
    "groupcp4p.iplot(kind='line', xTitle = 'Date', yTitle = 'No. Tweets with Sentiment > 0.05', x = ['Date'], y= ['Jeremy Corbyn','Theresa May','Tim Farron','Paul Nuttall','Caroline Lucas','Jonathan Bartley', 'Nicola Sturgeon','Leanne Wood'] )"
   ]
  },
  {
   "cell_type": "code",
   "execution_count": null,
   "metadata": {
    "collapsed": true
   },
   "outputs": [],
   "source": []
  }
 ],
 "metadata": {
  "kernelspec": {
   "display_name": "Python 2",
   "language": "python",
   "name": "python2"
  },
  "language_info": {
   "codemirror_mode": {
    "name": "ipython",
    "version": 2
   },
   "file_extension": ".py",
   "mimetype": "text/x-python",
   "name": "python",
   "nbconvert_exporter": "python",
   "pygments_lexer": "ipython2",
   "version": "2.7.13"
  }
 },
 "nbformat": 4,
 "nbformat_minor": 2
}
