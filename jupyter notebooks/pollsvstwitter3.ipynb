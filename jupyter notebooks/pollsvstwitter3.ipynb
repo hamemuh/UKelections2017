{
 "cells": [
  {
   "cell_type": "code",
   "execution_count": 118,
   "metadata": {
    "collapsed": true
   },
   "outputs": [],
   "source": [
    "import pymongo\n",
    "import pandas as pd\n",
    "from pandas import DataFrame, Series\n",
    "from pymongo import MongoClient\n",
    "import json\n",
    "import plotly as py\n",
    "py.tools.set_credentials_file(username = 'jcalcutt', api_key = '0PZ56yzpReSTHOb3Ul6k')\n",
    "import cufflinks as cf\n",
    "import datetime\n",
    "from bson.objectid import ObjectId\n",
    "#import plotly.graph_objs as go"
   ]
  },
  {
   "cell_type": "code",
   "execution_count": 119,
   "metadata": {
    "collapsed": true
   },
   "outputs": [],
   "source": [
    "df1 = pd.DataFrame.from_csv(\"C:\\Election\\poll.csv\")"
   ]
  },
  {
   "cell_type": "code",
   "execution_count": 184,
   "metadata": {},
   "outputs": [],
   "source": [
    "df1 = df1[36:]  # can't seem to save custom range plot, so just changed length of data here"
   ]
  },
  {
   "cell_type": "code",
   "execution_count": 185,
   "metadata": {
    "collapsed": true
   },
   "outputs": [],
   "source": [
    "df1['Date'] = pd.to_datetime(df1['Date'])"
   ]
  },
  {
   "cell_type": "code",
   "execution_count": 189,
   "metadata": {},
   "outputs": [
    {
     "name": "stdout",
     "output_type": "stream",
     "text": [
      "<class 'pandas.core.frame.DataFrame'>\n",
      "Int64Index: 18 entries, 36 to 53\n",
      "Data columns (total 7 columns):\n",
      "Date    18 non-null datetime64[ns]\n",
      "Con     18 non-null float64\n",
      "Lab     18 non-null float64\n",
      "LD      18 non-null float64\n",
      "UKIP    18 non-null float64\n",
      "GRN     18 non-null float64\n",
      "SNP     18 non-null float64\n",
      "dtypes: datetime64[ns](1), float64(6)\n",
      "memory usage: 1.1 KB\n"
     ]
    }
   ],
   "source": [
    "df1.info()"
   ]
  },
  {
   "cell_type": "code",
   "execution_count": 187,
   "metadata": {},
   "outputs": [
    {
     "data": {
      "text/html": [
       "<div>\n",
       "<table border=\"1\" class=\"dataframe\">\n",
       "  <thead>\n",
       "    <tr style=\"text-align: right;\">\n",
       "      <th></th>\n",
       "      <th>Date</th>\n",
       "      <th>No. of positive tweets by date</th>\n",
       "      <th>Category</th>\n",
       "      <th>No. of positive tweets per party</th>\n",
       "      <th>Proportion of positive tweets per party</th>\n",
       "    </tr>\n",
       "  </thead>\n",
       "  <tbody>\n",
       "    <tr>\n",
       "      <th>0</th>\n",
       "      <td>2017-05-11</td>\n",
       "      <td>34822</td>\n",
       "      <td>Conservative</td>\n",
       "      <td>3848</td>\n",
       "      <td>0.110505</td>\n",
       "    </tr>\n",
       "    <tr>\n",
       "      <th>1</th>\n",
       "      <td>2017-05-11</td>\n",
       "      <td>34822</td>\n",
       "      <td>Cymru</td>\n",
       "      <td>68</td>\n",
       "      <td>0.001953</td>\n",
       "    </tr>\n",
       "    <tr>\n",
       "      <th>2</th>\n",
       "      <td>2017-05-11</td>\n",
       "      <td>34822</td>\n",
       "      <td>Green</td>\n",
       "      <td>581</td>\n",
       "      <td>0.016685</td>\n",
       "    </tr>\n",
       "    <tr>\n",
       "      <th>3</th>\n",
       "      <td>2017-05-11</td>\n",
       "      <td>34822</td>\n",
       "      <td>Labour</td>\n",
       "      <td>26653</td>\n",
       "      <td>0.765407</td>\n",
       "    </tr>\n",
       "    <tr>\n",
       "      <th>4</th>\n",
       "      <td>2017-05-11</td>\n",
       "      <td>34822</td>\n",
       "      <td>LibDem</td>\n",
       "      <td>478</td>\n",
       "      <td>0.013727</td>\n",
       "    </tr>\n",
       "  </tbody>\n",
       "</table>\n",
       "</div>"
      ],
      "text/plain": [
       "         Date  No. of positive tweets by date      Category  \\\n",
       "0  2017-05-11                           34822  Conservative   \n",
       "1  2017-05-11                           34822         Cymru   \n",
       "2  2017-05-11                           34822         Green   \n",
       "3  2017-05-11                           34822        Labour   \n",
       "4  2017-05-11                           34822        LibDem   \n",
       "\n",
       "   No. of positive tweets per party  Proportion of positive tweets per party  \n",
       "0                              3848                                 0.110505  \n",
       "1                                68                                 0.001953  \n",
       "2                               581                                 0.016685  \n",
       "3                             26653                                 0.765407  \n",
       "4                               478                                 0.013727  "
      ]
     },
     "execution_count": 187,
     "metadata": {},
     "output_type": "execute_result"
    }
   ],
   "source": [
    "df2 = pd.read_pickle(\"C:\\Users\\Student\\Documents\\UKelections2017\\positivetweetsuptodate\")\n",
    "df2[:5]"
   ]
  },
  {
   "cell_type": "code",
   "execution_count": 123,
   "metadata": {
    "collapsed": true
   },
   "outputs": [],
   "source": [
    "df2['Date'] = pd.to_datetime(df2['Date'])"
   ]
  },
  {
   "cell_type": "code",
   "execution_count": 124,
   "metadata": {
    "collapsed": true
   },
   "outputs": [],
   "source": [
    "df2 = df2.rename( columns={\"Proportion of positive tweets per party\": \"proportion\"})"
   ]
  },
  {
   "cell_type": "code",
   "execution_count": 125,
   "metadata": {
    "collapsed": true
   },
   "outputs": [],
   "source": [
    "df2 = df2.rename( columns={\"No. of positive tweets per party\": \"count\"})"
   ]
  },
  {
   "cell_type": "code",
   "execution_count": 126,
   "metadata": {},
   "outputs": [
    {
     "data": {
      "text/html": [
       "<div>\n",
       "<table border=\"1\" class=\"dataframe\">\n",
       "  <thead>\n",
       "    <tr style=\"text-align: right;\">\n",
       "      <th></th>\n",
       "      <th>Date</th>\n",
       "      <th>No. of positive tweets by date</th>\n",
       "      <th>Category</th>\n",
       "      <th>count</th>\n",
       "      <th>proportion</th>\n",
       "    </tr>\n",
       "  </thead>\n",
       "  <tbody>\n",
       "    <tr>\n",
       "      <th>0</th>\n",
       "      <td>2017-05-11</td>\n",
       "      <td>34822</td>\n",
       "      <td>Conservative</td>\n",
       "      <td>3848</td>\n",
       "      <td>0.110505</td>\n",
       "    </tr>\n",
       "    <tr>\n",
       "      <th>1</th>\n",
       "      <td>2017-05-11</td>\n",
       "      <td>34822</td>\n",
       "      <td>Cymru</td>\n",
       "      <td>68</td>\n",
       "      <td>0.001953</td>\n",
       "    </tr>\n",
       "    <tr>\n",
       "      <th>2</th>\n",
       "      <td>2017-05-11</td>\n",
       "      <td>34822</td>\n",
       "      <td>Green</td>\n",
       "      <td>581</td>\n",
       "      <td>0.016685</td>\n",
       "    </tr>\n",
       "    <tr>\n",
       "      <th>3</th>\n",
       "      <td>2017-05-11</td>\n",
       "      <td>34822</td>\n",
       "      <td>Labour</td>\n",
       "      <td>26653</td>\n",
       "      <td>0.765407</td>\n",
       "    </tr>\n",
       "    <tr>\n",
       "      <th>4</th>\n",
       "      <td>2017-05-11</td>\n",
       "      <td>34822</td>\n",
       "      <td>LibDem</td>\n",
       "      <td>478</td>\n",
       "      <td>0.013727</td>\n",
       "    </tr>\n",
       "  </tbody>\n",
       "</table>\n",
       "</div>"
      ],
      "text/plain": [
       "        Date  No. of positive tweets by date      Category  count  proportion\n",
       "0 2017-05-11                           34822  Conservative   3848    0.110505\n",
       "1 2017-05-11                           34822         Cymru     68    0.001953\n",
       "2 2017-05-11                           34822         Green    581    0.016685\n",
       "3 2017-05-11                           34822        Labour  26653    0.765407\n",
       "4 2017-05-11                           34822        LibDem    478    0.013727"
      ]
     },
     "execution_count": 126,
     "metadata": {},
     "output_type": "execute_result"
    }
   ],
   "source": [
    "df2[:5]"
   ]
  },
  {
   "cell_type": "code",
   "execution_count": 127,
   "metadata": {
    "collapsed": true
   },
   "outputs": [],
   "source": [
    "df2['Date'] = pd.to_datetime(df2['Date'])"
   ]
  },
  {
   "cell_type": "code",
   "execution_count": 128,
   "metadata": {},
   "outputs": [
    {
     "name": "stdout",
     "output_type": "stream",
     "text": [
      "<class 'pandas.core.frame.DataFrame'>\n",
      "Int64Index: 104 entries, 0 to 103\n",
      "Data columns (total 5 columns):\n",
      "Date                              104 non-null datetime64[ns]\n",
      "No. of positive tweets by date    104 non-null int64\n",
      "Category                          104 non-null object\n",
      "count                             104 non-null int64\n",
      "proportion                        104 non-null float64\n",
      "dtypes: datetime64[ns](1), float64(1), int64(2), object(1)\n",
      "memory usage: 4.9+ KB\n"
     ]
    }
   ],
   "source": [
    "df2.info()"
   ]
  },
  {
   "cell_type": "code",
   "execution_count": 129,
   "metadata": {
    "collapsed": true
   },
   "outputs": [],
   "source": [
    "df2['weighted'] = df2['proportion'] / df2['count']"
   ]
  },
  {
   "cell_type": "code",
   "execution_count": 130,
   "metadata": {},
   "outputs": [
    {
     "data": {
      "text/html": [
       "<div>\n",
       "<table border=\"1\" class=\"dataframe\">\n",
       "  <thead>\n",
       "    <tr style=\"text-align: right;\">\n",
       "      <th></th>\n",
       "      <th>Date</th>\n",
       "      <th>No. of positive tweets by date</th>\n",
       "      <th>Category</th>\n",
       "      <th>count</th>\n",
       "      <th>proportion</th>\n",
       "      <th>weighted</th>\n",
       "    </tr>\n",
       "  </thead>\n",
       "  <tbody>\n",
       "    <tr>\n",
       "      <th>0</th>\n",
       "      <td>2017-05-11</td>\n",
       "      <td>34822</td>\n",
       "      <td>Conservative</td>\n",
       "      <td>3848</td>\n",
       "      <td>0.110505</td>\n",
       "      <td>0.000029</td>\n",
       "    </tr>\n",
       "    <tr>\n",
       "      <th>1</th>\n",
       "      <td>2017-05-11</td>\n",
       "      <td>34822</td>\n",
       "      <td>Cymru</td>\n",
       "      <td>68</td>\n",
       "      <td>0.001953</td>\n",
       "      <td>0.000029</td>\n",
       "    </tr>\n",
       "    <tr>\n",
       "      <th>2</th>\n",
       "      <td>2017-05-11</td>\n",
       "      <td>34822</td>\n",
       "      <td>Green</td>\n",
       "      <td>581</td>\n",
       "      <td>0.016685</td>\n",
       "      <td>0.000029</td>\n",
       "    </tr>\n",
       "  </tbody>\n",
       "</table>\n",
       "</div>"
      ],
      "text/plain": [
       "        Date  No. of positive tweets by date      Category  count  proportion  \\\n",
       "0 2017-05-11                           34822  Conservative   3848    0.110505   \n",
       "1 2017-05-11                           34822         Cymru     68    0.001953   \n",
       "2 2017-05-11                           34822         Green    581    0.016685   \n",
       "\n",
       "   weighted  \n",
       "0  0.000029  \n",
       "1  0.000029  \n",
       "2  0.000029  "
      ]
     },
     "execution_count": 130,
     "metadata": {},
     "output_type": "execute_result"
    }
   ],
   "source": [
    "df2[:3]"
   ]
  },
  {
   "cell_type": "code",
   "execution_count": 131,
   "metadata": {
    "collapsed": true
   },
   "outputs": [],
   "source": [
    "df3 = df2.pivot(index='Date', columns='Category', values='proportion')"
   ]
  },
  {
   "cell_type": "code",
   "execution_count": 191,
   "metadata": {},
   "outputs": [
    {
     "data": {
      "text/html": [
       "<div>\n",
       "<table border=\"1\" class=\"dataframe\">\n",
       "  <thead>\n",
       "    <tr style=\"text-align: right;\">\n",
       "      <th>Category</th>\n",
       "      <th>Conservative</th>\n",
       "      <th>Cymru</th>\n",
       "      <th>Green</th>\n",
       "      <th>Labour</th>\n",
       "      <th>LibDem</th>\n",
       "      <th>SNP</th>\n",
       "      <th>UKIP</th>\n",
       "      <th>other</th>\n",
       "    </tr>\n",
       "    <tr>\n",
       "      <th>Date</th>\n",
       "      <th></th>\n",
       "      <th></th>\n",
       "      <th></th>\n",
       "      <th></th>\n",
       "      <th></th>\n",
       "      <th></th>\n",
       "      <th></th>\n",
       "      <th></th>\n",
       "    </tr>\n",
       "  </thead>\n",
       "  <tbody>\n",
       "    <tr>\n",
       "      <th>2017-05-11</th>\n",
       "      <td>0.110505</td>\n",
       "      <td>0.001953</td>\n",
       "      <td>0.016685</td>\n",
       "      <td>0.765407</td>\n",
       "      <td>0.013727</td>\n",
       "      <td>0.065533</td>\n",
       "      <td>0.022256</td>\n",
       "      <td>0.003934</td>\n",
       "    </tr>\n",
       "    <tr>\n",
       "      <th>2017-05-12</th>\n",
       "      <td>0.138253</td>\n",
       "      <td>0.001255</td>\n",
       "      <td>0.012326</td>\n",
       "      <td>0.705956</td>\n",
       "      <td>0.015101</td>\n",
       "      <td>0.064122</td>\n",
       "      <td>0.059928</td>\n",
       "      <td>0.003059</td>\n",
       "    </tr>\n",
       "    <tr>\n",
       "      <th>2017-05-13</th>\n",
       "      <td>0.207044</td>\n",
       "      <td>0.001593</td>\n",
       "      <td>0.014136</td>\n",
       "      <td>0.623984</td>\n",
       "      <td>0.014964</td>\n",
       "      <td>0.081651</td>\n",
       "      <td>0.052677</td>\n",
       "      <td>0.003950</td>\n",
       "    </tr>\n",
       "    <tr>\n",
       "      <th>2017-05-14</th>\n",
       "      <td>0.194145</td>\n",
       "      <td>0.000999</td>\n",
       "      <td>0.007722</td>\n",
       "      <td>0.631810</td>\n",
       "      <td>0.025639</td>\n",
       "      <td>0.102345</td>\n",
       "      <td>0.031906</td>\n",
       "      <td>0.005435</td>\n",
       "    </tr>\n",
       "    <tr>\n",
       "      <th>2017-05-15</th>\n",
       "      <td>0.282033</td>\n",
       "      <td>0.002783</td>\n",
       "      <td>0.007418</td>\n",
       "      <td>0.597680</td>\n",
       "      <td>0.018212</td>\n",
       "      <td>0.070180</td>\n",
       "      <td>0.019125</td>\n",
       "      <td>0.002570</td>\n",
       "    </tr>\n",
       "  </tbody>\n",
       "</table>\n",
       "</div>"
      ],
      "text/plain": [
       "Category    Conservative     Cymru     Green    Labour    LibDem       SNP  \\\n",
       "Date                                                                         \n",
       "2017-05-11      0.110505  0.001953  0.016685  0.765407  0.013727  0.065533   \n",
       "2017-05-12      0.138253  0.001255  0.012326  0.705956  0.015101  0.064122   \n",
       "2017-05-13      0.207044  0.001593  0.014136  0.623984  0.014964  0.081651   \n",
       "2017-05-14      0.194145  0.000999  0.007722  0.631810  0.025639  0.102345   \n",
       "2017-05-15      0.282033  0.002783  0.007418  0.597680  0.018212  0.070180   \n",
       "\n",
       "Category        UKIP     other  \n",
       "Date                            \n",
       "2017-05-11  0.022256  0.003934  \n",
       "2017-05-12  0.059928  0.003059  \n",
       "2017-05-13  0.052677  0.003950  \n",
       "2017-05-14  0.031906  0.005435  \n",
       "2017-05-15  0.019125  0.002570  "
      ]
     },
     "execution_count": 191,
     "metadata": {},
     "output_type": "execute_result"
    }
   ],
   "source": [
    "df3[:5]"
   ]
  },
  {
   "cell_type": "code",
   "execution_count": 133,
   "metadata": {},
   "outputs": [
    {
     "data": {
      "text/html": [
       "<iframe id=\"igraph\" scrolling=\"no\" style=\"border:none;\" seamless=\"seamless\" src=\"https://plot.ly/~jcalcutt/345.embed\" height=\"525px\" width=\"100%\"></iframe>"
      ],
      "text/plain": [
       "<plotly.tools.PlotlyDisplay object>"
      ]
     },
     "execution_count": 133,
     "metadata": {},
     "output_type": "execute_result"
    }
   ],
   "source": [
    "df3.ta_plot(study='sma', periods=[9])"
   ]
  },
  {
   "cell_type": "code",
   "execution_count": 134,
   "metadata": {
    "collapsed": true
   },
   "outputs": [],
   "source": [
    "import plotly.plotly as py"
   ]
  },
  {
   "cell_type": "code",
   "execution_count": 135,
   "metadata": {
    "scrolled": true
   },
   "outputs": [
    {
     "data": {
      "text/html": [
       "<iframe id=\"igraph\" scrolling=\"no\" style=\"border:none;\" seamless=\"seamless\" src=\"https://plot.ly/~jcalcutt/347.embed\" height=\"525px\" width=\"100%\"></iframe>"
      ],
      "text/plain": [
       "<plotly.tools.PlotlyDisplay object>"
      ]
     },
     "execution_count": 135,
     "metadata": {},
     "output_type": "execute_result"
    }
   ],
   "source": [
    "fig1 = df1.iplot(x=['Date'],y=['Con', 'Lab', 'LD'], dash='dash', width=2.5,yTitle='Poll score', xTitle='Date', asFigure=True)\n",
    "fig2 = df3.iplot(y=['Conservative', 'Labour', 'LibDem'],  secondary_y=['Conservative', 'Labour','LibDem'],yTitle='% of positive tweets', asFigure=True)\n",
    "fig2['data'].extend(fig1['data'])\n",
    "py.iplot(fig2)"
   ]
  },
  {
   "cell_type": "code",
   "execution_count": 136,
   "metadata": {},
   "outputs": [
    {
     "name": "stdout",
     "output_type": "stream",
     "text": [
      "<class 'pandas.core.frame.DataFrame'>\n",
      "Int64Index: 54 entries, 0 to 53\n",
      "Data columns (total 7 columns):\n",
      "Date    54 non-null datetime64[ns]\n",
      "Con     54 non-null float64\n",
      "Lab     54 non-null float64\n",
      "LD      54 non-null float64\n",
      "UKIP    54 non-null float64\n",
      "GRN     54 non-null float64\n",
      "SNP     54 non-null float64\n",
      "dtypes: datetime64[ns](1), float64(6)\n",
      "memory usage: 3.4 KB\n"
     ]
    }
   ],
   "source": [
    "df1.info()"
   ]
  },
  {
   "cell_type": "code",
   "execution_count": 137,
   "metadata": {},
   "outputs": [
    {
     "name": "stdout",
     "output_type": "stream",
     "text": [
      "<class 'pandas.core.frame.DataFrame'>\n",
      "DatetimeIndex: 13 entries, 2017-05-11 to 2017-05-23\n",
      "Data columns (total 8 columns):\n",
      "Conservative    13 non-null float64\n",
      "Cymru           13 non-null float64\n",
      "Green           13 non-null float64\n",
      "Labour          13 non-null float64\n",
      "LibDem          13 non-null float64\n",
      "SNP             13 non-null float64\n",
      "UKIP            13 non-null float64\n",
      "other           13 non-null float64\n",
      "dtypes: float64(8)\n",
      "memory usage: 936.0 bytes\n"
     ]
    }
   ],
   "source": [
    "df3.info()"
   ]
  },
  {
   "cell_type": "code",
   "execution_count": 138,
   "metadata": {},
   "outputs": [
    {
     "name": "stdout",
     "output_type": "stream",
     "text": [
      "<class 'pandas.core.frame.DataFrame'>\n",
      "Int64Index: 104 entries, 0 to 103\n",
      "Data columns (total 6 columns):\n",
      "Date                              104 non-null datetime64[ns]\n",
      "No. of positive tweets by date    104 non-null int64\n",
      "Category                          104 non-null object\n",
      "count                             104 non-null int64\n",
      "proportion                        104 non-null float64\n",
      "weighted                          104 non-null float64\n",
      "dtypes: datetime64[ns](1), float64(2), int64(2), object(1)\n",
      "memory usage: 5.7+ KB\n"
     ]
    }
   ],
   "source": [
    "df2.info()"
   ]
  },
  {
   "cell_type": "markdown",
   "metadata": {
    "collapsed": true
   },
   "source": [
    "### create party colour table"
   ]
  },
  {
   "cell_type": "code",
   "execution_count": 139,
   "metadata": {
    "collapsed": true
   },
   "outputs": [],
   "source": [
    "partycol = pd.DataFrame.from_csv('c:\\Election\\partycolours.txt', sep='#')"
   ]
  },
  {
   "cell_type": "code",
   "execution_count": 140,
   "metadata": {},
   "outputs": [
    {
     "data": {
      "text/html": [
       "<div>\n",
       "<table border=\"1\" class=\"dataframe\">\n",
       "  <thead>\n",
       "    <tr style=\"text-align: right;\">\n",
       "      <th></th>\n",
       "      <th>rgb</th>\n",
       "    </tr>\n",
       "    <tr>\n",
       "      <th>party</th>\n",
       "      <th></th>\n",
       "    </tr>\n",
       "  </thead>\n",
       "  <tbody>\n",
       "    <tr>\n",
       "      <th>Conservative</th>\n",
       "      <td>rgb(65,105,225)</td>\n",
       "    </tr>\n",
       "    <tr>\n",
       "      <th>Labour</th>\n",
       "      <td>rgb(139,0,0)</td>\n",
       "    </tr>\n",
       "    <tr>\n",
       "      <th>LibDem</th>\n",
       "      <td>rgb(255,165,0)</td>\n",
       "    </tr>\n",
       "    <tr>\n",
       "      <th>Green</th>\n",
       "      <td>rgb(34,139,34)</td>\n",
       "    </tr>\n",
       "    <tr>\n",
       "      <th>UKIP</th>\n",
       "      <td>rgb(148,0,211)</td>\n",
       "    </tr>\n",
       "    <tr>\n",
       "      <th>SNP</th>\n",
       "      <td>rgb(255,255,0)</td>\n",
       "    </tr>\n",
       "  </tbody>\n",
       "</table>\n",
       "</div>"
      ],
      "text/plain": [
       "                          rgb\n",
       "party                        \n",
       "Conservative  rgb(65,105,225)\n",
       "Labour           rgb(139,0,0)\n",
       "LibDem         rgb(255,165,0)\n",
       "Green          rgb(34,139,34)\n",
       "UKIP           rgb(148,0,211)\n",
       "SNP            rgb(255,255,0)"
      ]
     },
     "execution_count": 140,
     "metadata": {},
     "output_type": "execute_result"
    }
   ],
   "source": [
    "partycol"
   ]
  },
  {
   "cell_type": "code",
   "execution_count": 141,
   "metadata": {
    "collapsed": true
   },
   "outputs": [],
   "source": [
    "partycol2 = partycol[:3]"
   ]
  },
  {
   "cell_type": "code",
   "execution_count": 142,
   "metadata": {},
   "outputs": [
    {
     "data": {
      "text/plain": [
       "['rgb(65,105,225)', 'rgb(139,0,0)', 'rgb(255,165,0)']"
      ]
     },
     "execution_count": 142,
     "metadata": {},
     "output_type": "execute_result"
    }
   ],
   "source": [
    "list(partycol2['rgb'].values)\n"
   ]
  },
  {
   "cell_type": "code",
   "execution_count": 143,
   "metadata": {},
   "outputs": [
    {
     "data": {
      "text/html": [
       "<iframe id=\"igraph\" scrolling=\"no\" style=\"border:none;\" seamless=\"seamless\" src=\"https://plot.ly/~jcalcutt/349.embed\" height=\"525px\" width=\"100%\"></iframe>"
      ],
      "text/plain": [
       "<plotly.tools.PlotlyDisplay object>"
      ]
     },
     "execution_count": 143,
     "metadata": {},
     "output_type": "execute_result"
    }
   ],
   "source": [
    "fig1 = df1.iplot(x=['Date'],y=['Con', 'Lab', 'LD'], colors = list(partycol2['rgb'].values), dash='dash', width=2.5,yTitle='Poll score', xTitle='Date', asFigure=True)\n",
    "fig2 = df3.iplot(y=['Conservative', 'Labour', 'LibDem'], colors = list(partycol2['rgb'].values),  secondary_y=['Conservative', 'Labour','LibDem'],yTitle='% of positive tweets', asFigure=True)\n",
    "fig2['data'].extend(fig1['data'])\n",
    "py.iplot(fig2)"
   ]
  },
  {
   "cell_type": "code",
   "execution_count": 144,
   "metadata": {},
   "outputs": [
    {
     "data": {
      "text/html": [
       "<div>\n",
       "<table border=\"1\" class=\"dataframe\">\n",
       "  <thead>\n",
       "    <tr style=\"text-align: right;\">\n",
       "      <th></th>\n",
       "      <th>timestamp</th>\n",
       "      <th>binname</th>\n",
       "      <th>website</th>\n",
       "      <th>head1</th>\n",
       "      <th>head2</th>\n",
       "      <th>head3</th>\n",
       "      <th>head4</th>\n",
       "      <th>head5</th>\n",
       "      <th>head6</th>\n",
       "      <th>head7</th>\n",
       "      <th>...</th>\n",
       "      <th>head18</th>\n",
       "      <th>head19</th>\n",
       "      <th>head20</th>\n",
       "      <th>head21</th>\n",
       "      <th>head22</th>\n",
       "      <th>head23</th>\n",
       "      <th>head24</th>\n",
       "      <th>head25</th>\n",
       "      <th>head26</th>\n",
       "      <th>head27</th>\n",
       "    </tr>\n",
       "  </thead>\n",
       "  <tbody>\n",
       "    <tr>\n",
       "      <th>0</th>\n",
       "      <td>2017-05-18 09:21:45.530000</td>\n",
       "      <td>headlines</td>\n",
       "      <td>https://www.bbc.co.uk/news/election/2017</td>\n",
       "      <td>Tory manifesto pledge on social care</td>\n",
       "      <td>Tory care plan: Why many will pay more</td>\n",
       "      <td>Election 2017: latest updates</td>\n",
       "      <td>Former Welsh First Minister Morgan dies</td>\n",
       "      <td>Tim Farron: Public must decide on Brexit</td>\n",
       "      <td>McCluskey 'now optimistic Labour can win'</td>\n",
       "      <td>At-a-glance summary: Lib Dem manifesto</td>\n",
       "      <td>...</td>\n",
       "      <td>Kuenssberg: May's bid to be tough not cruel</td>\n",
       "      <td>Why education could determine how you vote</td>\n",
       "      <td>A tale of two election campaigns</td>\n",
       "      <td>Reality Check: Could legalising cannabis raise...</td>\n",
       "      <td>Lib Dem manifesto: 'We can have change'</td>\n",
       "      <td>IndyRef2 battle and the general election</td>\n",
       "      <td>Retro games, period poverty and bridge tolls</td>\n",
       "      <td>What does Alliance for Green Socialism stand for?</td>\n",
       "      <td>Johnson criticised over whisky comment</td>\n",
       "      <td>NaN</td>\n",
       "    </tr>\n",
       "  </tbody>\n",
       "</table>\n",
       "<p>1 rows × 30 columns</p>\n",
       "</div>"
      ],
      "text/plain": [
       "                    timestamp    binname  \\\n",
       "0  2017-05-18 09:21:45.530000  headlines   \n",
       "\n",
       "                                    website  \\\n",
       "0  https://www.bbc.co.uk/news/election/2017   \n",
       "\n",
       "                                  head1  \\\n",
       "0  Tory manifesto pledge on social care   \n",
       "\n",
       "                                    head2                          head3  \\\n",
       "0  Tory care plan: Why many will pay more  Election 2017: latest updates   \n",
       "\n",
       "                                     head4  \\\n",
       "0  Former Welsh First Minister Morgan dies   \n",
       "\n",
       "                                      head5  \\\n",
       "0  Tim Farron: Public must decide on Brexit   \n",
       "\n",
       "                                       head6  \\\n",
       "0  McCluskey 'now optimistic Labour can win'   \n",
       "\n",
       "                                    head7  ...    \\\n",
       "0  At-a-glance summary: Lib Dem manifesto  ...     \n",
       "\n",
       "                                        head18  \\\n",
       "0  Kuenssberg: May's bid to be tough not cruel   \n",
       "\n",
       "                                       head19  \\\n",
       "0  Why education could determine how you vote   \n",
       "\n",
       "                             head20  \\\n",
       "0  A tale of two election campaigns   \n",
       "\n",
       "                                              head21  \\\n",
       "0  Reality Check: Could legalising cannabis raise...   \n",
       "\n",
       "                                    head22  \\\n",
       "0  Lib Dem manifesto: 'We can have change'   \n",
       "\n",
       "                                     head23  \\\n",
       "0  IndyRef2 battle and the general election   \n",
       "\n",
       "                                         head24  \\\n",
       "0  Retro games, period poverty and bridge tolls   \n",
       "\n",
       "                                              head25  \\\n",
       "0  What does Alliance for Green Socialism stand for?   \n",
       "\n",
       "                                   head26 head27  \n",
       "0  Johnson criticised over whisky comment    NaN  \n",
       "\n",
       "[1 rows x 30 columns]"
      ]
     },
     "execution_count": 144,
     "metadata": {},
     "output_type": "execute_result"
    }
   ],
   "source": [
    "news = pd.read_csv('c:\\\\Election\\\\twitter-scrape-master\\\\newsheadlines.txt', sep='|')\n",
    "news[:1]\n"
   ]
  },
  {
   "cell_type": "code",
   "execution_count": 145,
   "metadata": {
    "collapsed": true
   },
   "outputs": [],
   "source": [
    "news['timestamp'] = pd.to_datetime(news['timestamp'])"
   ]
  },
  {
   "cell_type": "code",
   "execution_count": 146,
   "metadata": {
    "collapsed": true
   },
   "outputs": [],
   "source": [
    "news2 = news.set_index(\"timestamp\", drop=False)\n",
    "news3 = news.reindex(df1.index, method='nearest')"
   ]
  },
  {
   "cell_type": "code",
   "execution_count": 147,
   "metadata": {
    "collapsed": true
   },
   "outputs": [],
   "source": [
    "news3['e'] = pd.Series(1, index=df1.index)"
   ]
  },
  {
   "cell_type": "code",
   "execution_count": 148,
   "metadata": {
    "collapsed": true
   },
   "outputs": [],
   "source": [
    "news4 = DataFrame()"
   ]
  },
  {
   "cell_type": "code",
   "execution_count": 173,
   "metadata": {
    "collapsed": true
   },
   "outputs": [],
   "source": [
    "news4[\"headlines\"] = '1) '+news3[\"head1\"].map(str) + '<BR> '+  '2) '+news3[\"head2\"] + '<BR>' + '3) '+news3['head3']"
   ]
  },
  {
   "cell_type": "code",
   "execution_count": 150,
   "metadata": {
    "collapsed": true
   },
   "outputs": [],
   "source": [
    "news4[\"date\"] = news3[\"timestamp\"]"
   ]
  },
  {
   "cell_type": "code",
   "execution_count": 171,
   "metadata": {
    "collapsed": true
   },
   "outputs": [],
   "source": [
    "news4['BBC headlines'] = pd.Series(50, index=news4.index)"
   ]
  },
  {
   "cell_type": "code",
   "execution_count": 174,
   "metadata": {},
   "outputs": [
    {
     "data": {
      "text/html": [
       "<div>\n",
       "<table border=\"1\" class=\"dataframe\">\n",
       "  <thead>\n",
       "    <tr style=\"text-align: right;\">\n",
       "      <th></th>\n",
       "      <th>headlines</th>\n",
       "      <th>date</th>\n",
       "      <th>e</th>\n",
       "      <th>BBC headlines</th>\n",
       "    </tr>\n",
       "  </thead>\n",
       "  <tbody>\n",
       "    <tr>\n",
       "      <th>0</th>\n",
       "      <td>1) Tory manifesto pledge on social care&lt;BR&gt; 2)...</td>\n",
       "      <td>2017-05-18 09:21:45.530</td>\n",
       "      <td>50</td>\n",
       "      <td>50</td>\n",
       "    </tr>\n",
       "    <tr>\n",
       "      <th>1</th>\n",
       "      <td>1) Tory manifesto pledge on social care&lt;BR&gt; 2)...</td>\n",
       "      <td>2017-05-18 09:21:50.145</td>\n",
       "      <td>50</td>\n",
       "      <td>50</td>\n",
       "    </tr>\n",
       "    <tr>\n",
       "      <th>2</th>\n",
       "      <td>1) Tory manifesto pledge on social care&lt;BR&gt; 2)...</td>\n",
       "      <td>2017-05-18 09:21:55.163</td>\n",
       "      <td>50</td>\n",
       "      <td>50</td>\n",
       "    </tr>\n",
       "  </tbody>\n",
       "</table>\n",
       "</div>"
      ],
      "text/plain": [
       "                                           headlines                    date  \\\n",
       "0  1) Tory manifesto pledge on social care<BR> 2)... 2017-05-18 09:21:45.530   \n",
       "1  1) Tory manifesto pledge on social care<BR> 2)... 2017-05-18 09:21:50.145   \n",
       "2  1) Tory manifesto pledge on social care<BR> 2)... 2017-05-18 09:21:55.163   \n",
       "\n",
       "    e  BBC headlines  \n",
       "0  50             50  \n",
       "1  50             50  \n",
       "2  50             50  "
      ]
     },
     "execution_count": 174,
     "metadata": {},
     "output_type": "execute_result"
    }
   ],
   "source": [
    "news4[:3]"
   ]
  },
  {
   "cell_type": "markdown",
   "metadata": {},
   "source": [
    "# This is the plot we want ..."
   ]
  },
  {
   "cell_type": "code",
   "execution_count": 190,
   "metadata": {},
   "outputs": [
    {
     "data": {
      "text/html": [
       "<iframe id=\"igraph\" scrolling=\"no\" style=\"border:none;\" seamless=\"seamless\" src=\"https://plot.ly/~jcalcutt/363.embed\" height=\"525px\" width=\"100%\"></iframe>"
      ],
      "text/plain": [
       "<plotly.tools.PlotlyDisplay object>"
      ]
     },
     "execution_count": 190,
     "metadata": {},
     "output_type": "execute_result"
    }
   ],
   "source": [
    "fig1 = df1.iplot(x=['Date'],y=['Con', 'Lab', 'LD'], colors = list(partycol2['rgb'].values), dash='dash', width=2.5,yTitle='Poll score', xTitle='Date', asFigure=True)\n",
    "fig2 = df3.iplot(y=['Conservative', 'Labour', 'LibDem'], colors = list(partycol2['rgb'].values),  secondary_y=['Conservative', 'Labour','LibDem'],yTitle='% of positive tweets', asFigure=True)\n",
    "fig3 = news4.iplot(x = ['date'], y = ['BBC headlines'],mode = 'markers',  text = 'headlines', asFigure = True )\n",
    "fig2['data'].extend(fig1['data'])\n",
    "fig2['data'].extend(fig3['data'])\n",
    "py.iplot(fig2,  title ='General Election 2017 Twitter vs. Polls plot',  filename='Polls_vs_twitter')"
   ]
  },
  {
   "cell_type": "code",
   "execution_count": null,
   "metadata": {
    "collapsed": true
   },
   "outputs": [],
   "source": []
  }
 ],
 "metadata": {
  "kernelspec": {
   "display_name": "Python 2",
   "language": "python",
   "name": "python2"
  },
  "language_info": {
   "codemirror_mode": {
    "name": "ipython",
    "version": 2
   },
   "file_extension": ".py",
   "mimetype": "text/x-python",
   "name": "python",
   "nbconvert_exporter": "python",
   "pygments_lexer": "ipython2",
   "version": "2.7.13"
  }
 },
 "nbformat": 4,
 "nbformat_minor": 2
}
