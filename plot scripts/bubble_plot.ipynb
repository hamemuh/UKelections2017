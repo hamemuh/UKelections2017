{
 "cells": [
  {
   "cell_type": "code",
   "execution_count": 1,
   "metadata": {
    "collapsed": true
   },
   "outputs": [],
   "source": [
    "import json\n",
    "import pandas as pd\n",
    "from pandas import DataFrame,Series\n",
    "import matplotlib.pyplot as plt\n",
    "import pymongo\n",
    "import plotly.plotly as py\n",
    "import plotly.graph_objs as go\n",
    "import cufflinks as cf"
   ]
  },
  {
   "cell_type": "code",
   "execution_count": 2,
   "metadata": {
    "collapsed": true
   },
   "outputs": [],
   "source": [
    "connection = pymongo.MongoClient() # connecting to mongo\n",
    "db = connection.twitterdb"
   ]
  },
  {
   "cell_type": "code",
   "execution_count": 3,
   "metadata": {
    "collapsed": true
   },
   "outputs": [],
   "source": [
    "tweets = db.final_tweets3.find({}, {\"text\": 1, \"polarity\": 1, \"subjectivity\": 1, \"filter\": 1,\"Bin\": 1, \"created_at\": 1})"
   ]
  },
  {
   "cell_type": "code",
   "execution_count": 4,
   "metadata": {
    "collapsed": true
   },
   "outputs": [],
   "source": [
    "l = [t for t in tweets]\n",
    "\n",
    "df = DataFrame(l)"
   ]
  },
  {
   "cell_type": "code",
   "execution_count": 5,
   "metadata": {},
   "outputs": [
    {
     "data": {
      "text/html": [
       "<div>\n",
       "<table border=\"1\" class=\"dataframe\">\n",
       "  <thead>\n",
       "    <tr style=\"text-align: right;\">\n",
       "      <th></th>\n",
       "      <th>Bin</th>\n",
       "      <th>_id</th>\n",
       "      <th>created_at</th>\n",
       "      <th>filter</th>\n",
       "      <th>polarity</th>\n",
       "      <th>subjectivity</th>\n",
       "      <th>text</th>\n",
       "    </tr>\n",
       "  </thead>\n",
       "  <tbody>\n",
       "    <tr>\n",
       "      <th>0</th>\n",
       "      <td>Labour</td>\n",
       "      <td>59145d1558e3c0228c6c940a</td>\n",
       "      <td>Thu May 11 12:46:13 +0000 2017</td>\n",
       "      <td>Labour</td>\n",
       "      <td>0.0</td>\n",
       "      <td>0.0</td>\n",
       "      <td>RT @guardian: The Snap: Labour's leaked manife...</td>\n",
       "    </tr>\n",
       "    <tr>\n",
       "      <th>1</th>\n",
       "      <td>Labour</td>\n",
       "      <td>59145d1658e3c0228c6c940c</td>\n",
       "      <td>Thu May 11 12:46:13 +0000 2017</td>\n",
       "      <td>Jeremy Corbyn</td>\n",
       "      <td>0.8</td>\n",
       "      <td>1.0</td>\n",
       "      <td>Are you happy to have Branson's Virgin Care ra...</td>\n",
       "    </tr>\n",
       "    <tr>\n",
       "      <th>2</th>\n",
       "      <td>Conservative</td>\n",
       "      <td>59145d1658e3c0228c6c940e</td>\n",
       "      <td>Thu May 11 12:46:13 +0000 2017</td>\n",
       "      <td>conservative</td>\n",
       "      <td>0.0</td>\n",
       "      <td>0.0</td>\n",
       "      <td>RT @InxsyS: Trump is a conservative authoritar...</td>\n",
       "    </tr>\n",
       "    <tr>\n",
       "      <th>3</th>\n",
       "      <td>Labour</td>\n",
       "      <td>59145d1658e3c0228c6c9410</td>\n",
       "      <td>Thu May 11 12:46:13 +0000 2017</td>\n",
       "      <td>Labour</td>\n",
       "      <td>0.0</td>\n",
       "      <td>0.0</td>\n",
       "      <td>RT @JBeville_: Jez's Reds on June 8th #VoteLab...</td>\n",
       "    </tr>\n",
       "    <tr>\n",
       "      <th>4</th>\n",
       "      <td>Labour</td>\n",
       "      <td>59145d1658e3c0228c6c9412</td>\n",
       "      <td>Thu May 11 12:46:13 +0000 2017</td>\n",
       "      <td>Labour</td>\n",
       "      <td>0.0</td>\n",
       "      <td>0.0</td>\n",
       "      <td>Labour’s leaked manifesto is already sending t...</td>\n",
       "    </tr>\n",
       "  </tbody>\n",
       "</table>\n",
       "</div>"
      ],
      "text/plain": [
       "            Bin                       _id                      created_at  \\\n",
       "0        Labour  59145d1558e3c0228c6c940a  Thu May 11 12:46:13 +0000 2017   \n",
       "1        Labour  59145d1658e3c0228c6c940c  Thu May 11 12:46:13 +0000 2017   \n",
       "2  Conservative  59145d1658e3c0228c6c940e  Thu May 11 12:46:13 +0000 2017   \n",
       "3        Labour  59145d1658e3c0228c6c9410  Thu May 11 12:46:13 +0000 2017   \n",
       "4        Labour  59145d1658e3c0228c6c9412  Thu May 11 12:46:13 +0000 2017   \n",
       "\n",
       "          filter  polarity  subjectivity  \\\n",
       "0         Labour       0.0           0.0   \n",
       "1  Jeremy Corbyn       0.8           1.0   \n",
       "2   conservative       0.0           0.0   \n",
       "3         Labour       0.0           0.0   \n",
       "4         Labour       0.0           0.0   \n",
       "\n",
       "                                                text  \n",
       "0  RT @guardian: The Snap: Labour's leaked manife...  \n",
       "1  Are you happy to have Branson's Virgin Care ra...  \n",
       "2  RT @InxsyS: Trump is a conservative authoritar...  \n",
       "3  RT @JBeville_: Jez's Reds on June 8th #VoteLab...  \n",
       "4  Labour’s leaked manifesto is already sending t...  "
      ]
     },
     "execution_count": 5,
     "metadata": {},
     "output_type": "execute_result"
    }
   ],
   "source": [
    "df[:5]"
   ]
  },
  {
   "cell_type": "code",
   "execution_count": 6,
   "metadata": {},
   "outputs": [
    {
     "data": {
      "text/plain": [
       "Labour          665407\n",
       "Conservative    213230\n",
       "Neutral         125440\n",
       "SNP              75078\n",
       "UKIP             45382\n",
       "LibDem           14838\n",
       "Green             5717\n",
       "other             4330\n",
       "Cymru             1333\n",
       "Name: Bin, dtype: int64"
      ]
     },
     "execution_count": 6,
     "metadata": {},
     "output_type": "execute_result"
    }
   ],
   "source": [
    "df['Bin'].value_counts()"
   ]
  },
  {
   "cell_type": "code",
   "execution_count": 7,
   "metadata": {
    "collapsed": true
   },
   "outputs": [],
   "source": [
    "df2 = DataFrame(df['Bin'].value_counts())"
   ]
  },
  {
   "cell_type": "code",
   "execution_count": 8,
   "metadata": {},
   "outputs": [
    {
     "data": {
      "text/html": [
       "<div>\n",
       "<table border=\"1\" class=\"dataframe\">\n",
       "  <thead>\n",
       "    <tr style=\"text-align: right;\">\n",
       "      <th></th>\n",
       "      <th>Bin</th>\n",
       "    </tr>\n",
       "  </thead>\n",
       "  <tbody>\n",
       "    <tr>\n",
       "      <th>Labour</th>\n",
       "      <td>665407</td>\n",
       "    </tr>\n",
       "    <tr>\n",
       "      <th>Conservative</th>\n",
       "      <td>213230</td>\n",
       "    </tr>\n",
       "    <tr>\n",
       "      <th>Neutral</th>\n",
       "      <td>125440</td>\n",
       "    </tr>\n",
       "    <tr>\n",
       "      <th>SNP</th>\n",
       "      <td>75078</td>\n",
       "    </tr>\n",
       "    <tr>\n",
       "      <th>UKIP</th>\n",
       "      <td>45382</td>\n",
       "    </tr>\n",
       "    <tr>\n",
       "      <th>LibDem</th>\n",
       "      <td>14838</td>\n",
       "    </tr>\n",
       "    <tr>\n",
       "      <th>Green</th>\n",
       "      <td>5717</td>\n",
       "    </tr>\n",
       "    <tr>\n",
       "      <th>other</th>\n",
       "      <td>4330</td>\n",
       "    </tr>\n",
       "    <tr>\n",
       "      <th>Cymru</th>\n",
       "      <td>1333</td>\n",
       "    </tr>\n",
       "  </tbody>\n",
       "</table>\n",
       "</div>"
      ],
      "text/plain": [
       "                 Bin\n",
       "Labour        665407\n",
       "Conservative  213230\n",
       "Neutral       125440\n",
       "SNP            75078\n",
       "UKIP           45382\n",
       "LibDem         14838\n",
       "Green           5717\n",
       "other           4330\n",
       "Cymru           1333"
      ]
     },
     "execution_count": 8,
     "metadata": {},
     "output_type": "execute_result"
    }
   ],
   "source": [
    "df2"
   ]
  },
  {
   "cell_type": "code",
   "execution_count": 9,
   "metadata": {
    "collapsed": true
   },
   "outputs": [],
   "source": [
    "df3 = df.groupby('Bin').mean()"
   ]
  },
  {
   "cell_type": "code",
   "execution_count": 10,
   "metadata": {
    "collapsed": true
   },
   "outputs": [],
   "source": [
    "df3['Bin_size'] = df['Bin'].value_counts()"
   ]
  },
  {
   "cell_type": "code",
   "execution_count": 11,
   "metadata": {},
   "outputs": [
    {
     "data": {
      "text/html": [
       "<div>\n",
       "<table border=\"1\" class=\"dataframe\">\n",
       "  <thead>\n",
       "    <tr style=\"text-align: right;\">\n",
       "      <th></th>\n",
       "      <th>polarity</th>\n",
       "      <th>subjectivity</th>\n",
       "      <th>Bin_size</th>\n",
       "    </tr>\n",
       "    <tr>\n",
       "      <th>Bin</th>\n",
       "      <th></th>\n",
       "      <th></th>\n",
       "      <th></th>\n",
       "    </tr>\n",
       "  </thead>\n",
       "  <tbody>\n",
       "    <tr>\n",
       "      <th>Conservative</th>\n",
       "      <td>0.039961</td>\n",
       "      <td>0.308564</td>\n",
       "      <td>213230</td>\n",
       "    </tr>\n",
       "    <tr>\n",
       "      <th>Cymru</th>\n",
       "      <td>0.106627</td>\n",
       "      <td>0.300329</td>\n",
       "      <td>1333</td>\n",
       "    </tr>\n",
       "    <tr>\n",
       "      <th>Green</th>\n",
       "      <td>-0.065610</td>\n",
       "      <td>0.346105</td>\n",
       "      <td>5717</td>\n",
       "    </tr>\n",
       "    <tr>\n",
       "      <th>Labour</th>\n",
       "      <td>0.071209</td>\n",
       "      <td>0.318548</td>\n",
       "      <td>665407</td>\n",
       "    </tr>\n",
       "    <tr>\n",
       "      <th>LibDem</th>\n",
       "      <td>0.103378</td>\n",
       "      <td>0.315196</td>\n",
       "      <td>14838</td>\n",
       "    </tr>\n",
       "    <tr>\n",
       "      <th>Neutral</th>\n",
       "      <td>0.097851</td>\n",
       "      <td>0.300357</td>\n",
       "      <td>125440</td>\n",
       "    </tr>\n",
       "    <tr>\n",
       "      <th>SNP</th>\n",
       "      <td>0.090674</td>\n",
       "      <td>0.328542</td>\n",
       "      <td>75078</td>\n",
       "    </tr>\n",
       "    <tr>\n",
       "      <th>UKIP</th>\n",
       "      <td>0.077404</td>\n",
       "      <td>0.278568</td>\n",
       "      <td>45382</td>\n",
       "    </tr>\n",
       "    <tr>\n",
       "      <th>other</th>\n",
       "      <td>0.088636</td>\n",
       "      <td>0.280607</td>\n",
       "      <td>4330</td>\n",
       "    </tr>\n",
       "  </tbody>\n",
       "</table>\n",
       "</div>"
      ],
      "text/plain": [
       "              polarity  subjectivity  Bin_size\n",
       "Bin                                           \n",
       "Conservative  0.039961      0.308564    213230\n",
       "Cymru         0.106627      0.300329      1333\n",
       "Green        -0.065610      0.346105      5717\n",
       "Labour        0.071209      0.318548    665407\n",
       "LibDem        0.103378      0.315196     14838\n",
       "Neutral       0.097851      0.300357    125440\n",
       "SNP           0.090674      0.328542     75078\n",
       "UKIP          0.077404      0.278568     45382\n",
       "other         0.088636      0.280607      4330"
      ]
     },
     "execution_count": 11,
     "metadata": {},
     "output_type": "execute_result"
    }
   ],
   "source": [
    "df3"
   ]
  },
  {
   "cell_type": "code",
   "execution_count": 12,
   "metadata": {
    "collapsed": true
   },
   "outputs": [],
   "source": [
    "df3['name'] = df3.index"
   ]
  },
  {
   "cell_type": "code",
   "execution_count": 13,
   "metadata": {},
   "outputs": [
    {
     "data": {
      "text/html": [
       "<div>\n",
       "<table border=\"1\" class=\"dataframe\">\n",
       "  <thead>\n",
       "    <tr style=\"text-align: right;\">\n",
       "      <th></th>\n",
       "      <th>polarity</th>\n",
       "      <th>subjectivity</th>\n",
       "      <th>Bin_size</th>\n",
       "      <th>name</th>\n",
       "    </tr>\n",
       "    <tr>\n",
       "      <th>Bin</th>\n",
       "      <th></th>\n",
       "      <th></th>\n",
       "      <th></th>\n",
       "      <th></th>\n",
       "    </tr>\n",
       "  </thead>\n",
       "  <tbody>\n",
       "    <tr>\n",
       "      <th>Conservative</th>\n",
       "      <td>0.039961</td>\n",
       "      <td>0.308564</td>\n",
       "      <td>213230</td>\n",
       "      <td>Conservative</td>\n",
       "    </tr>\n",
       "    <tr>\n",
       "      <th>Cymru</th>\n",
       "      <td>0.106627</td>\n",
       "      <td>0.300329</td>\n",
       "      <td>1333</td>\n",
       "      <td>Cymru</td>\n",
       "    </tr>\n",
       "    <tr>\n",
       "      <th>Green</th>\n",
       "      <td>-0.065610</td>\n",
       "      <td>0.346105</td>\n",
       "      <td>5717</td>\n",
       "      <td>Green</td>\n",
       "    </tr>\n",
       "    <tr>\n",
       "      <th>Labour</th>\n",
       "      <td>0.071209</td>\n",
       "      <td>0.318548</td>\n",
       "      <td>665407</td>\n",
       "      <td>Labour</td>\n",
       "    </tr>\n",
       "    <tr>\n",
       "      <th>LibDem</th>\n",
       "      <td>0.103378</td>\n",
       "      <td>0.315196</td>\n",
       "      <td>14838</td>\n",
       "      <td>LibDem</td>\n",
       "    </tr>\n",
       "    <tr>\n",
       "      <th>Neutral</th>\n",
       "      <td>0.097851</td>\n",
       "      <td>0.300357</td>\n",
       "      <td>125440</td>\n",
       "      <td>Neutral</td>\n",
       "    </tr>\n",
       "    <tr>\n",
       "      <th>SNP</th>\n",
       "      <td>0.090674</td>\n",
       "      <td>0.328542</td>\n",
       "      <td>75078</td>\n",
       "      <td>SNP</td>\n",
       "    </tr>\n",
       "    <tr>\n",
       "      <th>UKIP</th>\n",
       "      <td>0.077404</td>\n",
       "      <td>0.278568</td>\n",
       "      <td>45382</td>\n",
       "      <td>UKIP</td>\n",
       "    </tr>\n",
       "    <tr>\n",
       "      <th>other</th>\n",
       "      <td>0.088636</td>\n",
       "      <td>0.280607</td>\n",
       "      <td>4330</td>\n",
       "      <td>other</td>\n",
       "    </tr>\n",
       "  </tbody>\n",
       "</table>\n",
       "</div>"
      ],
      "text/plain": [
       "              polarity  subjectivity  Bin_size          name\n",
       "Bin                                                         \n",
       "Conservative  0.039961      0.308564    213230  Conservative\n",
       "Cymru         0.106627      0.300329      1333         Cymru\n",
       "Green        -0.065610      0.346105      5717         Green\n",
       "Labour        0.071209      0.318548    665407        Labour\n",
       "LibDem        0.103378      0.315196     14838        LibDem\n",
       "Neutral       0.097851      0.300357    125440       Neutral\n",
       "SNP           0.090674      0.328542     75078           SNP\n",
       "UKIP          0.077404      0.278568     45382          UKIP\n",
       "other         0.088636      0.280607      4330         other"
      ]
     },
     "execution_count": 13,
     "metadata": {},
     "output_type": "execute_result"
    }
   ],
   "source": [
    "df3"
   ]
  },
  {
   "cell_type": "code",
   "execution_count": 20,
   "metadata": {},
   "outputs": [],
   "source": [
    "df4 = df3.filter(items=['Conservative', 'Green', 'Labour', 'LibDem', 'SNP', 'UKIP'], axis=0)"
   ]
  },
  {
   "cell_type": "code",
   "execution_count": 137,
   "metadata": {
    "collapsed": true
   },
   "outputs": [],
   "source": [
    "df5 = df4.filter(items=['Conservative', 'Labour', 'LibDem', 'SNP', 'UKIP'], axis=0)"
   ]
  },
  {
   "cell_type": "code",
   "execution_count": 138,
   "metadata": {},
   "outputs": [
    {
     "data": {
      "text/html": [
       "<div>\n",
       "<table border=\"1\" class=\"dataframe\">\n",
       "  <thead>\n",
       "    <tr style=\"text-align: right;\">\n",
       "      <th></th>\n",
       "      <th>polarity</th>\n",
       "      <th>subjectivity</th>\n",
       "      <th>Bin_size</th>\n",
       "      <th>name</th>\n",
       "      <th>party_colour</th>\n",
       "    </tr>\n",
       "    <tr>\n",
       "      <th>Bin</th>\n",
       "      <th></th>\n",
       "      <th></th>\n",
       "      <th></th>\n",
       "      <th></th>\n",
       "      <th></th>\n",
       "    </tr>\n",
       "  </thead>\n",
       "  <tbody>\n",
       "    <tr>\n",
       "      <th>Conservative</th>\n",
       "      <td>0.039961</td>\n",
       "      <td>0.308564</td>\n",
       "      <td>213230</td>\n",
       "      <td>Conservative</td>\n",
       "      <td>rgb(65,105,225)</td>\n",
       "    </tr>\n",
       "    <tr>\n",
       "      <th>Labour</th>\n",
       "      <td>0.071209</td>\n",
       "      <td>0.318548</td>\n",
       "      <td>665407</td>\n",
       "      <td>Labour</td>\n",
       "      <td>rgb(139,0,0)</td>\n",
       "    </tr>\n",
       "    <tr>\n",
       "      <th>LibDem</th>\n",
       "      <td>0.103378</td>\n",
       "      <td>0.315196</td>\n",
       "      <td>14838</td>\n",
       "      <td>LibDem</td>\n",
       "      <td>rgb(255,165,0)</td>\n",
       "    </tr>\n",
       "    <tr>\n",
       "      <th>SNP</th>\n",
       "      <td>0.090674</td>\n",
       "      <td>0.328542</td>\n",
       "      <td>75078</td>\n",
       "      <td>SNP</td>\n",
       "      <td>rgb(255,255,0)</td>\n",
       "    </tr>\n",
       "    <tr>\n",
       "      <th>UKIP</th>\n",
       "      <td>0.077404</td>\n",
       "      <td>0.278568</td>\n",
       "      <td>45382</td>\n",
       "      <td>UKIP</td>\n",
       "      <td>rgb(148,0,211)</td>\n",
       "    </tr>\n",
       "  </tbody>\n",
       "</table>\n",
       "</div>"
      ],
      "text/plain": [
       "              polarity  subjectivity  Bin_size          name     party_colour\n",
       "Bin                                                                          \n",
       "Conservative  0.039961      0.308564    213230  Conservative  rgb(65,105,225)\n",
       "Labour        0.071209      0.318548    665407        Labour     rgb(139,0,0)\n",
       "LibDem        0.103378      0.315196     14838        LibDem   rgb(255,165,0)\n",
       "SNP           0.090674      0.328542     75078           SNP   rgb(255,255,0)\n",
       "UKIP          0.077404      0.278568     45382          UKIP   rgb(148,0,211)"
      ]
     },
     "execution_count": 138,
     "metadata": {},
     "output_type": "execute_result"
    }
   ],
   "source": [
    "df5"
   ]
  },
  {
   "cell_type": "code",
   "execution_count": 77,
   "metadata": {},
   "outputs": [
    {
     "data": {
      "text/html": [
       "<div>\n",
       "<table border=\"1\" class=\"dataframe\">\n",
       "  <thead>\n",
       "    <tr style=\"text-align: right;\">\n",
       "      <th></th>\n",
       "      <th>polarity</th>\n",
       "      <th>subjectivity</th>\n",
       "      <th>Bin_size</th>\n",
       "      <th>name</th>\n",
       "      <th>party_colour</th>\n",
       "    </tr>\n",
       "    <tr>\n",
       "      <th>Bin</th>\n",
       "      <th></th>\n",
       "      <th></th>\n",
       "      <th></th>\n",
       "      <th></th>\n",
       "      <th></th>\n",
       "    </tr>\n",
       "  </thead>\n",
       "  <tbody>\n",
       "    <tr>\n",
       "      <th>Conservative</th>\n",
       "      <td>0.039961</td>\n",
       "      <td>0.308564</td>\n",
       "      <td>213230</td>\n",
       "      <td>Conservative</td>\n",
       "      <td>rgb(65,105,225)</td>\n",
       "    </tr>\n",
       "    <tr>\n",
       "      <th>Green</th>\n",
       "      <td>-0.065610</td>\n",
       "      <td>0.346105</td>\n",
       "      <td>5717</td>\n",
       "      <td>Green</td>\n",
       "      <td>rgb(34,139,34)</td>\n",
       "    </tr>\n",
       "    <tr>\n",
       "      <th>Labour</th>\n",
       "      <td>0.071209</td>\n",
       "      <td>0.318548</td>\n",
       "      <td>665407</td>\n",
       "      <td>Labour</td>\n",
       "      <td>rgb(139,0,0)</td>\n",
       "    </tr>\n",
       "    <tr>\n",
       "      <th>LibDem</th>\n",
       "      <td>0.103378</td>\n",
       "      <td>0.315196</td>\n",
       "      <td>14838</td>\n",
       "      <td>LibDem</td>\n",
       "      <td>rgb(255,165,0)</td>\n",
       "    </tr>\n",
       "    <tr>\n",
       "      <th>SNP</th>\n",
       "      <td>0.090674</td>\n",
       "      <td>0.328542</td>\n",
       "      <td>75078</td>\n",
       "      <td>SNP</td>\n",
       "      <td>rgb(255,255,0)</td>\n",
       "    </tr>\n",
       "    <tr>\n",
       "      <th>UKIP</th>\n",
       "      <td>0.077404</td>\n",
       "      <td>0.278568</td>\n",
       "      <td>45382</td>\n",
       "      <td>UKIP</td>\n",
       "      <td>rgb(148,0,211)</td>\n",
       "    </tr>\n",
       "  </tbody>\n",
       "</table>\n",
       "</div>"
      ],
      "text/plain": [
       "              polarity  subjectivity  Bin_size          name     party_colour\n",
       "Bin                                                                          \n",
       "Conservative  0.039961      0.308564    213230  Conservative  rgb(65,105,225)\n",
       "Green        -0.065610      0.346105      5717         Green   rgb(34,139,34)\n",
       "Labour        0.071209      0.318548    665407        Labour     rgb(139,0,0)\n",
       "LibDem        0.103378      0.315196     14838        LibDem   rgb(255,165,0)\n",
       "SNP           0.090674      0.328542     75078           SNP   rgb(255,255,0)\n",
       "UKIP          0.077404      0.278568     45382          UKIP   rgb(148,0,211)"
      ]
     },
     "execution_count": 77,
     "metadata": {},
     "output_type": "execute_result"
    }
   ],
   "source": [
    "df4"
   ]
  },
  {
   "cell_type": "code",
   "execution_count": 119,
   "metadata": {},
   "outputs": [
    {
     "name": "stdout",
     "output_type": "stream",
     "text": [
      "Conservative\n",
      "Green\n",
      "Labour\n",
      "LibDem\n",
      "SNP\n",
      "UKIP\n"
     ]
    }
   ],
   "source": [
    "\n",
    "for row in df4.index.values:\n",
    "    print row\n",
    "       "
   ]
  },
  {
   "cell_type": "code",
   "execution_count": 25,
   "metadata": {},
   "outputs": [],
   "source": [
    "df4['party_colour'] = ['rgb(65,105,225)','rgb(34,139,34)', 'rgb(139,0,0)', 'rgb(255,165,0)','rgb(255,255,0)' ,\n",
    "'rgb(148,0,211)']"
   ]
  },
  {
   "cell_type": "code",
   "execution_count": 88,
   "metadata": {},
   "outputs": [
    {
     "data": {
      "text/plain": [
       "Bin\n",
       "Conservative    0.039961\n",
       "Green          -0.065610\n",
       "Labour          0.071209\n",
       "LibDem          0.103378\n",
       "SNP             0.090674\n",
       "UKIP            0.077404\n",
       "Name: polarity, dtype: float64"
      ]
     },
     "execution_count": 88,
     "metadata": {},
     "output_type": "execute_result"
    }
   ],
   "source": [
    "df4['polarity']"
   ]
  },
  {
   "cell_type": "code",
   "execution_count": 139,
   "metadata": {},
   "outputs": [],
   "source": [
    "fig = {\n",
    "    'data': [\n",
    "                {\n",
    "            'x': df4.loc[party].polarity, \n",
    "            'y': df4.loc[party].subjectivity,\n",
    "            'name' : party,\n",
    "            'mode' : 'markers',\n",
    "            \n",
    "            'marker' : {\n",
    "                'color' : df4.loc[party].party_colour,\n",
    "                'size' : df4.loc[party].Bin_size/5000,\n",
    "                'opacity' : 0.6\n",
    "            }\n",
    "                        \n",
    "        } for party in df5.index.values \n",
    "        ],\n",
    "    'layout': {\n",
    "        'xaxis': {'title': 'Polarity'},\n",
    "        'yaxis': {'title': 'Subjectivity'}\n",
    "    }\n",
    "}"
   ]
  },
  {
   "cell_type": "code",
   "execution_count": 141,
   "metadata": {},
   "outputs": [
    {
     "data": {
      "text/html": [
       "<iframe id=\"igraph\" scrolling=\"no\" style=\"border:none;\" seamless=\"seamless\" src=\"https://plot.ly/~jcalcutt/147.embed\" height=\"525px\" width=\"100%\"></iframe>"
      ],
      "text/plain": [
       "<plotly.tools.PlotlyDisplay object>"
      ]
     },
     "execution_count": 141,
     "metadata": {},
     "output_type": "execute_result"
    }
   ],
   "source": [
    "py.iplot(fig)"
   ]
  },
  {
   "cell_type": "code",
   "execution_count": 99,
   "metadata": {},
   "outputs": [],
   "source": [
    "figure = df4.iplot(kind='bubble', x='polarity', y='subjectivity',  size='Bin_size', \n",
    "             xTitle='Polarity', yTitle='Subjectivity', text ='name' )"
   ]
  },
  {
   "cell_type": "code",
   "execution_count": 95,
   "metadata": {},
   "outputs": [
    {
     "data": {
      "text/html": [
       "<iframe id=\"igraph\" scrolling=\"no\" style=\"border:none;\" seamless=\"seamless\" src=\"https://plot.ly/~jcalcutt/119.embed\" height=\"525px\" width=\"100%\"></iframe>"
      ],
      "text/plain": [
       "<plotly.tools.PlotlyDisplay object>"
      ]
     },
     "execution_count": 95,
     "metadata": {},
     "output_type": "execute_result"
    }
   ],
   "source": [
    "figure"
   ]
  },
  {
   "cell_type": "code",
   "execution_count": null,
   "metadata": {
    "collapsed": true
   },
   "outputs": [],
   "source": [
    "df4 = cf.datagen.bubble()\n",
    "\n",
    "py.iplot([{\n",
    "    'x': df.index,\n",
    "    'y': df[col],\n",
    "    'name': col\n",
    "}  for col in df.columns], filename='cufflinks/simple-line')"
   ]
  }
 ],
 "metadata": {
  "kernelspec": {
   "display_name": "Python 2",
   "language": "python",
   "name": "python2"
  },
  "language_info": {
   "codemirror_mode": {
    "name": "ipython",
    "version": 2
   },
   "file_extension": ".py",
   "mimetype": "text/x-python",
   "name": "python",
   "nbconvert_exporter": "python",
   "pygments_lexer": "ipython2",
   "version": "2.7.13"
  }
 },
 "nbformat": 4,
 "nbformat_minor": 2
}
